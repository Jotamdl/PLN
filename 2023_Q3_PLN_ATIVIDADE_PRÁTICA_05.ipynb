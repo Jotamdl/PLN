{
  "nbformat": 4,
  "nbformat_minor": 0,
  "metadata": {
    "colab": {
      "provenance": [],
      "include_colab_link": true
    },
    "kernelspec": {
      "name": "python3",
      "display_name": "Python 3"
    }
  },
  "cells": [
    {
      "cell_type": "markdown",
      "metadata": {
        "id": "view-in-github",
        "colab_type": "text"
      },
      "source": [
        "<a href=\"https://colab.research.google.com/github/Jotamdl/PLN/blob/master/2023_Q3_PLN_ATIVIDADE_PR%C3%81TICA_05.ipynb\" target=\"_parent\"><img src=\"https://colab.research.google.com/assets/colab-badge.svg\" alt=\"Open In Colab\"/></a>"
      ]
    },
    {
      "cell_type": "markdown",
      "metadata": {
        "id": "Y6QILOdpOjwv"
      },
      "source": [
        "# **Processamento de Linguagem Natural [2023.Q3]**\n",
        "Prof. Alexandre Donizeti Alves"
      ]
    },
    {
      "cell_type": "markdown",
      "metadata": {
        "id": "8m67OOx9MX_3"
      },
      "source": [
        "### **ATIVIDADE PRÁTICA 05 [LangChain + Grandes Modelos de Linguagem + API]**\n"
      ]
    },
    {
      "cell_type": "markdown",
      "metadata": {
        "id": "5Gk0nHKabBT-"
      },
      "source": [
        "A **ATIVIDADE PRÁTICA 05** deve ser feita utilizando o **Google Colab** com uma conta sua vinculada ao Gmail. O link do seu notebook, armazenado no Google Drive, além do link de um repositório no GitHub e os principais resultados da atividade, devem ser enviados usando o seguinte formulário:\n",
        "\n",
        "> https://forms.gle/C1oUi1FKTZ4W9fNdA\n",
        "\n",
        "\n",
        "**IMPORTANTE**: A submissão deve ser feita até o dia **10/12 (domingo)** APENAS POR UM INTEGRANTE DA EQUIPE, até às 23h59. Por favor, lembre-se de dar permissão de ACESSO IRRESTRITO para o professor da disciplina de PLN."
      ]
    },
    {
      "cell_type": "markdown",
      "metadata": {
        "id": "D7hJlilKM485"
      },
      "source": [
        "### **EQUIPE**\n",
        "\n",
        "---"
      ]
    },
    {
      "cell_type": "markdown",
      "source": [
        "**POR FAVOR, PREENCHER OS INTEGRANDES DA SUA EQUIPE:**\n",
        "\n",
        "\n",
        "**Integrante 01:**\n",
        "\n",
        "Matheus Assis Gussiardi  - 11202021758\n",
        "\n",
        "**Integrante 02:**\n",
        "\n",
        "João Hugo Martins da Luz - 11202021919\n",
        "\n",
        "**Integrante 03:**\n",
        "\n",
        "Gabriel Martins Liberato - 11202020921\n"
      ],
      "metadata": {
        "id": "tnIArN0QY-Ek"
      }
    },
    {
      "cell_type": "markdown",
      "source": [
        "### **GRANDE MODELO DE LINGUAGEM (*Large Language Model - LLM*)**\n",
        "\n",
        "---"
      ],
      "metadata": {
        "id": "VbYD2mw8y4CN"
      }
    },
    {
      "cell_type": "markdown",
      "source": [
        "Cada equipe deve selecionar um Grande Modelo de Linguagem (*Large Language Model - LMM*). Preferencialmente, usar um modelo gratuito. Cada modelo pode ser escolhido por até 4 equipes.\n",
        "\n",
        ">\n",
        "\n",
        "Uma lista de LLMs está disponível em:\n",
        "\n",
        "> https://integrations.langchain.com/llms\n",
        "> https://python.langchain.com/docs/integrations/llms/"
      ],
      "metadata": {
        "id": "_UlblxFxzDV-"
      }
    },
    {
      "cell_type": "markdown",
      "source": [
        "**Modelos da Hugging Face:**\n",
        "\n",
        "* Mistral Base: modelo promissor.\n",
        "\n",
        "> https://huggingface.co/mistralai/Mistral-7B-Instruct-v0.1\n",
        "\n",
        "* Mistral Quantizado: mais leve. Pode ser um pouco mais difícil de configurar, mas deve ocupar menos memória.\n",
        "\n",
        "> https://huggingface.co/TheBloke/Mistral-7B-Instruct-v0.1-GGUF\n",
        "\n",
        "* Mistral Lite da Amazon: pode ter desempenho melhor.\n",
        "\n",
        "> https://huggingface.co/amazon/MistralLite\n",
        "\n",
        "* Llama 2 7B: modelo da Meta melhorado.\n",
        "\n",
        "> https://huggingface.co/meta-llama/Llama-2-7b-chat-hf\n",
        "\n",
        "* Llama 2 7b 32k: contexto maior pelo mesmo tamanho.\n",
        "\n",
        "> https://huggingface.co/togethercomputer/Llama-2-7B-32K-Instruct\n",
        "\n",
        "* Galactica: para artigos científicos\n",
        "\n",
        "> https://huggingface.co/facebook/galactica-6.7b\n",
        "\n",
        "* Alpaca: alternativo ao Llama\n",
        "\n",
        "> https://huggingface.co/chavinlo/alpaca-native\n",
        "\n",
        "> https://huggingface.co/spaces/tloen/alpaca-lora"
      ],
      "metadata": {
        "id": "GVpiVhzn3QqE"
      }
    },
    {
      "cell_type": "markdown",
      "source": [
        "**Lista de Modelos Interessantes:**\n",
        "\n",
        "> https://www.kdnuggets.com/2023/04/8-opensource-alternative-chatgpt-bard.html\n",
        "\n",
        "* Vicuna:\n",
        "> https://huggingface.co/lmsys/vicuna-7b-v1.5-16k\n",
        "\n",
        "* Openchat kit:\n",
        "> https://huggingface.co/togethercomputer/GPT-NeoXT-Chat-Base-20B\n",
        "\n",
        "* Meta OPT:\n",
        "> https://huggingface.co/facebook/opt-1.3b\n",
        "\n",
        "* Google Flan:\n",
        "> https://huggingface.co/google/flan-t5-base"
      ],
      "metadata": {
        "id": "WRuAiSr05Ayt"
      }
    },
    {
      "cell_type": "markdown",
      "source": [
        "**APIs:**\n",
        "\n",
        "* GPT4ALL: tenta ser um chatGPT aberto\n",
        "> https://python.langchain.com/docs/integrations/llms/gpt4all\n",
        "\n",
        "* YandexGPT: da empresa russa que criou um modelo de *Machine Learning* clássico muito bom, o CatBoost.\n",
        "> https://python.langchain.com/docs/integrations/llms/yandex\n",
        "\n",
        "* Anthropic: empresa forte concorrente da OpenAi.\n",
        "> https://python.langchain.com/docs/integrations/chat/anthropic\n",
        "\n",
        "* Gorilla: pipeline para geração de código\n",
        " > https://www.kdnuggets.com/2023/06/meet-gorilla-uc-berkeley-microsoft-apiaugmented-llm-outperforms-gpt4-chatgpt-claude.html"
      ],
      "metadata": {
        "id": "5Q3mhqda5WP1"
      }
    },
    {
      "cell_type": "markdown",
      "source": [
        "**IMPORTANTE**: todo esse levantamento e comentários foram feitos pelo aluno  **Bruno Sanches Rodrigues**."
      ],
      "metadata": {
        "id": "DO6XMjHx58u9"
      }
    },
    {
      "cell_type": "markdown",
      "source": [
        "Por favor, informe os dados do LLM selecionada:\n",
        "\n",
        ">\n",
        "\n",
        "\n",
        "**LLM**: Cohere\n",
        "\n",
        ">\n",
        "\n",
        "**Link para a documentação oficial**: https://api.python.langchain.com/en/latest/llms/langchain.llms.cohere.Cohere.html\n",
        "\n",
        ">\n",
        "\n",
        "\n",
        "**Site oficial (GitHub)**: https://github.com/langchain-ai/langchain/blob/master/libs/langchain/langchain/llms/cohere.py"
      ],
      "metadata": {
        "id": "a6AkE6iW0c3o"
      }
    },
    {
      "cell_type": "markdown",
      "source": [
        "**IMPORTANTE**: não pode ser o modelo da `OpenAI`."
      ],
      "metadata": {
        "id": "A2oo8GtK0xSO"
      }
    },
    {
      "cell_type": "markdown",
      "source": [
        "### **API**\n",
        "---"
      ],
      "metadata": {
        "id": "6yExhaebs-nD"
      }
    },
    {
      "cell_type": "markdown",
      "source": [
        "Por favor, informe os dados da API selecionada:\n",
        "\n",
        "`API: ` MediaWiki (Wikipedia API)\n",
        "\n",
        "`Site oficial: ` https://www.mediawiki.org/wiki/MediaWiki\n",
        "\n",
        "`Link para a documentação oficial: `https://www.mediawiki.org/wiki/API:Main_page\n",
        "\n",
        "\n",
        "\n",
        "\n"
      ],
      "metadata": {
        "id": "DjJM_qhEZRy6"
      }
    },
    {
      "cell_type": "markdown",
      "source": [
        "**IMPORTANTE**: não é necessário usar a mesma **API** da `ATIVIDADE PRÁTICA 03`. Cada **API** pode ser usada por até 4 equipes."
      ],
      "metadata": {
        "id": "bTODq98Myt_u"
      }
    },
    {
      "cell_type": "markdown",
      "metadata": {
        "id": "EtjgWQRzNphL"
      },
      "source": [
        "### **DESCRIÇÃO**\n",
        "---"
      ]
    },
    {
      "cell_type": "markdown",
      "source": [
        "Implementar um `notebook` no `Google Colab` que faça uso do framework **`LangChain`** (obrigatório) e de um **LLM** aplicando, no mínimo, uma técnica de PLN. A técnica pode ser aplicada em qualquer córpus. Também é obrigatório usar uma **API** da `ATIVIDADE PRÁTICA 03`. A **API** pode ser usada tanto para obter os dados quanto para disponibilizar os resultados.\n",
        "\n",
        "O **LLM** e a **API** selecionados devem ser informados na seguinte planilha:\n",
        "\n",
        "> https://docs.google.com/spreadsheets/d/1cOL7zVNffqmliuv23zFm1UJjhEXTdp1Zm5EyAJmhiKg/edit?usp=sharing\n",
        "\n",
        ">\n",
        "As seguintes técnicas de PLN podem ser usadas:\n",
        "\n",
        "*   Correção Gramatical\n",
        "*   Classificação de Textos\n",
        "*   Análise de Sentimentos\n",
        "*   Detecção de Emoções\n",
        "*   Extração de Palavras-chave\n",
        "*   Tradução de Textos\n",
        "*   Sumarização de Textos\n",
        "*   Similaridade de Textos\n",
        "*   Reconhecimento de Entidades Nomeadas\n",
        "*   Sistemas de Perguntas e Respostas\n",
        "\n",
        ">\n",
        "\n",
        "\n",
        "\n",
        "\n",
        "**Lista de APIs:**\n",
        "\n",
        "\n",
        "* YouTube\n",
        "* LinkedIn\n",
        "* Twitter (X)\n",
        "* Facebook\n",
        "* Instagram\n",
        "* Medium\n",
        "* Reddit\n",
        "* TikTok\n",
        "* GitHub\n",
        "* Pinterest\n",
        "* Telegram\n",
        "* Dados financeiros\n",
        "* Notícias\n",
        "* Mercado de Ações\n",
        "* Dados financeiros\n",
        "* SMS\n",
        "* OpenAlex\n",
        "* Whisper (OpenAI)\n",
        "* Discord\n",
        "* Slack\n",
        "* Chuck Norris Jokes\n",
        "* Wikipedia\n",
        "* Last.fm\n",
        "* New York Times\n",
        "* Nasdaq Data Link\n",
        "* Yahoo! Finance\n",
        "* Twilio SendGrid Mail Send\n",
        "* Spotify\n",
        "* Awesome API\n",
        "* Google Books API\n",
        "* Mercado Livre API\n",
        "\n",
        ">\n",
        "\n",
        "**PLANILHA DA ATIVIDADE PRÁTICA 03:**\n",
        "\n",
        "> https://docs.google.com/spreadsheets/d/1-Q1szJ3UmoE2_3LtcRQyqid5fPIcnpsR3XAPnoxLj2o/edit?usp=sharing\n",
        "\n",
        "\n",
        "**IMPORTANTE:** É obrigatório usar o e-mail da UFABC.\n"
      ],
      "metadata": {
        "id": "fXTwkiiGs2BV"
      }
    },
    {
      "cell_type": "markdown",
      "source": [
        "### **CRITÉRIOS DE AVALIAÇÃO**\n",
        "---\n"
      ],
      "metadata": {
        "id": "gWsBYQNtxmum"
      }
    },
    {
      "cell_type": "markdown",
      "source": [
        "Serão considerados como critérios de avaliação os segunintes pontos:\n",
        "\n",
        "* Uso do framework **`LangChain`**.\n",
        "\n",
        "* Escolha e uso de um **LLM**.\n",
        "\n",
        "* Escolha e uso de uma **API**\n",
        "\n",
        "* Criatividade no uso do framework **`LangChain`** em conjunto com o **LLM** e a **API**.\n",
        "\n",
        "\n"
      ],
      "metadata": {
        "id": "5iHdx4BXYruQ"
      }
    },
    {
      "cell_type": "markdown",
      "source": [
        "**IMPORTANTE**: todo o código do notebook deve ser executado. Código sem execução não será considerado."
      ],
      "metadata": {
        "id": "LhwdrMp123Xx"
      }
    },
    {
      "cell_type": "markdown",
      "source": [
        "\n",
        "# **IMPLEMENTAÇÃO**\n",
        "---\n",
        "\n",
        "Neste trabalho foi realizado um programa que utiliza da LLM Cohere e da API da Wikipedia para interagir com um usuário de forma personalizada, a partir de seus interesses. O trabalho conta com as seguintes funções:\n",
        "\n",
        "\n",
        "\n",
        "1.   Analisar o perfil do usuário;\n",
        "2.   Fornecer páginas da Wikipedia relacionadas aos interesses do usuário;\n",
        "3.   Gerar um quizz a partir dos interesses do usuário;\n",
        "4.   Recomendar novos tópicos que possam ser de interesse do usuário.\n",
        "\n"
      ],
      "metadata": {
        "id": "nw09lujGvfjc"
      }
    },
    {
      "cell_type": "markdown",
      "source": [
        "## **Imports e Setup das APIs**"
      ],
      "metadata": {
        "id": "VvwkBgrglqKA"
      }
    },
    {
      "cell_type": "code",
      "source": [
        "!pip install langchain"
      ],
      "metadata": {
        "colab": {
          "base_uri": "https://localhost:8080/"
        },
        "id": "_MpiwndsQfck",
        "outputId": "a5d20905-1ef8-4716-b191-b2265403aed3"
      },
      "execution_count": null,
      "outputs": [
        {
          "output_type": "stream",
          "name": "stdout",
          "text": [
            "Collecting langchain\n",
            "  Downloading langchain-0.0.350-py3-none-any.whl (809 kB)\n",
            "\u001b[2K     \u001b[90m━━━━━━━━━━━━━━━━━━━━━━━━━━━━━━━━━━━━━━━━\u001b[0m \u001b[32m809.1/809.1 kB\u001b[0m \u001b[31m5.5 MB/s\u001b[0m eta \u001b[36m0:00:00\u001b[0m\n",
            "\u001b[?25hRequirement already satisfied: PyYAML>=5.3 in /usr/local/lib/python3.10/dist-packages (from langchain) (6.0.1)\n",
            "Requirement already satisfied: SQLAlchemy<3,>=1.4 in /usr/local/lib/python3.10/dist-packages (from langchain) (2.0.23)\n",
            "Requirement already satisfied: aiohttp<4.0.0,>=3.8.3 in /usr/local/lib/python3.10/dist-packages (from langchain) (3.9.1)\n",
            "Requirement already satisfied: async-timeout<5.0.0,>=4.0.0 in /usr/local/lib/python3.10/dist-packages (from langchain) (4.0.3)\n",
            "Collecting dataclasses-json<0.7,>=0.5.7 (from langchain)\n",
            "  Downloading dataclasses_json-0.6.3-py3-none-any.whl (28 kB)\n",
            "Collecting jsonpatch<2.0,>=1.33 (from langchain)\n",
            "  Downloading jsonpatch-1.33-py2.py3-none-any.whl (12 kB)\n",
            "Collecting langchain-community<0.1,>=0.0.2 (from langchain)\n",
            "  Downloading langchain_community-0.0.2-py3-none-any.whl (1.5 MB)\n",
            "\u001b[2K     \u001b[90m━━━━━━━━━━━━━━━━━━━━━━━━━━━━━━━━━━━━━━━━\u001b[0m \u001b[32m1.5/1.5 MB\u001b[0m \u001b[31m13.5 MB/s\u001b[0m eta \u001b[36m0:00:00\u001b[0m\n",
            "\u001b[?25hCollecting langchain-core<0.2,>=0.1 (from langchain)\n",
            "  Downloading langchain_core-0.1.0-py3-none-any.whl (189 kB)\n",
            "\u001b[2K     \u001b[90m━━━━━━━━━━━━━━━━━━━━━━━━━━━━━━━━━━━━━━━━\u001b[0m \u001b[32m189.1/189.1 kB\u001b[0m \u001b[31m12.2 MB/s\u001b[0m eta \u001b[36m0:00:00\u001b[0m\n",
            "\u001b[?25hCollecting langsmith<0.1.0,>=0.0.63 (from langchain)\n",
            "  Downloading langsmith-0.0.69-py3-none-any.whl (48 kB)\n",
            "\u001b[2K     \u001b[90m━━━━━━━━━━━━━━━━━━━━━━━━━━━━━━━━━━━━━━━━\u001b[0m \u001b[32m48.2/48.2 kB\u001b[0m \u001b[31m6.1 MB/s\u001b[0m eta \u001b[36m0:00:00\u001b[0m\n",
            "\u001b[?25hRequirement already satisfied: numpy<2,>=1 in /usr/local/lib/python3.10/dist-packages (from langchain) (1.23.5)\n",
            "Requirement already satisfied: pydantic<3,>=1 in /usr/local/lib/python3.10/dist-packages (from langchain) (1.10.13)\n",
            "Requirement already satisfied: requests<3,>=2 in /usr/local/lib/python3.10/dist-packages (from langchain) (2.31.0)\n",
            "Requirement already satisfied: tenacity<9.0.0,>=8.1.0 in /usr/local/lib/python3.10/dist-packages (from langchain) (8.2.3)\n",
            "Requirement already satisfied: attrs>=17.3.0 in /usr/local/lib/python3.10/dist-packages (from aiohttp<4.0.0,>=3.8.3->langchain) (23.1.0)\n",
            "Requirement already satisfied: multidict<7.0,>=4.5 in /usr/local/lib/python3.10/dist-packages (from aiohttp<4.0.0,>=3.8.3->langchain) (6.0.4)\n",
            "Requirement already satisfied: yarl<2.0,>=1.0 in /usr/local/lib/python3.10/dist-packages (from aiohttp<4.0.0,>=3.8.3->langchain) (1.9.3)\n",
            "Requirement already satisfied: frozenlist>=1.1.1 in /usr/local/lib/python3.10/dist-packages (from aiohttp<4.0.0,>=3.8.3->langchain) (1.4.0)\n",
            "Requirement already satisfied: aiosignal>=1.1.2 in /usr/local/lib/python3.10/dist-packages (from aiohttp<4.0.0,>=3.8.3->langchain) (1.3.1)\n",
            "Collecting marshmallow<4.0.0,>=3.18.0 (from dataclasses-json<0.7,>=0.5.7->langchain)\n",
            "  Downloading marshmallow-3.20.1-py3-none-any.whl (49 kB)\n",
            "\u001b[2K     \u001b[90m━━━━━━━━━━━━━━━━━━━━━━━━━━━━━━━━━━━━━━━━\u001b[0m \u001b[32m49.4/49.4 kB\u001b[0m \u001b[31m7.2 MB/s\u001b[0m eta \u001b[36m0:00:00\u001b[0m\n",
            "\u001b[?25hCollecting typing-inspect<1,>=0.4.0 (from dataclasses-json<0.7,>=0.5.7->langchain)\n",
            "  Downloading typing_inspect-0.9.0-py3-none-any.whl (8.8 kB)\n",
            "Collecting jsonpointer>=1.9 (from jsonpatch<2.0,>=1.33->langchain)\n",
            "  Downloading jsonpointer-2.4-py2.py3-none-any.whl (7.8 kB)\n",
            "Requirement already satisfied: anyio<5,>=3 in /usr/local/lib/python3.10/dist-packages (from langchain-core<0.2,>=0.1->langchain) (3.7.1)\n",
            "Requirement already satisfied: packaging<24.0,>=23.2 in /usr/local/lib/python3.10/dist-packages (from langchain-core<0.2,>=0.1->langchain) (23.2)\n",
            "Requirement already satisfied: typing-extensions>=4.2.0 in /usr/local/lib/python3.10/dist-packages (from pydantic<3,>=1->langchain) (4.5.0)\n",
            "Requirement already satisfied: charset-normalizer<4,>=2 in /usr/local/lib/python3.10/dist-packages (from requests<3,>=2->langchain) (3.3.2)\n",
            "Requirement already satisfied: idna<4,>=2.5 in /usr/local/lib/python3.10/dist-packages (from requests<3,>=2->langchain) (3.6)\n",
            "Requirement already satisfied: urllib3<3,>=1.21.1 in /usr/local/lib/python3.10/dist-packages (from requests<3,>=2->langchain) (2.0.7)\n",
            "Requirement already satisfied: certifi>=2017.4.17 in /usr/local/lib/python3.10/dist-packages (from requests<3,>=2->langchain) (2023.11.17)\n",
            "Requirement already satisfied: greenlet!=0.4.17 in /usr/local/lib/python3.10/dist-packages (from SQLAlchemy<3,>=1.4->langchain) (3.0.1)\n",
            "Requirement already satisfied: sniffio>=1.1 in /usr/local/lib/python3.10/dist-packages (from anyio<5,>=3->langchain-core<0.2,>=0.1->langchain) (1.3.0)\n",
            "Requirement already satisfied: exceptiongroup in /usr/local/lib/python3.10/dist-packages (from anyio<5,>=3->langchain-core<0.2,>=0.1->langchain) (1.2.0)\n",
            "Collecting mypy-extensions>=0.3.0 (from typing-inspect<1,>=0.4.0->dataclasses-json<0.7,>=0.5.7->langchain)\n",
            "  Downloading mypy_extensions-1.0.0-py3-none-any.whl (4.7 kB)\n",
            "Installing collected packages: mypy-extensions, marshmallow, jsonpointer, typing-inspect, langsmith, jsonpatch, langchain-core, dataclasses-json, langchain-community, langchain\n",
            "Successfully installed dataclasses-json-0.6.3 jsonpatch-1.33 jsonpointer-2.4 langchain-0.0.350 langchain-community-0.0.2 langchain-core-0.1.0 langsmith-0.0.69 marshmallow-3.20.1 mypy-extensions-1.0.0 typing-inspect-0.9.0\n"
          ]
        }
      ]
    },
    {
      "cell_type": "code",
      "source": [
        "!pip install cohere"
      ],
      "metadata": {
        "colab": {
          "base_uri": "https://localhost:8080/"
        },
        "id": "N5ya68YW2fMd",
        "outputId": "dc0c7009-8b26-4b90-f307-176549bc1ac7"
      },
      "execution_count": null,
      "outputs": [
        {
          "output_type": "stream",
          "name": "stdout",
          "text": [
            "Collecting cohere\n",
            "  Downloading cohere-4.37-py3-none-any.whl (48 kB)\n",
            "\u001b[?25l     \u001b[90m━━━━━━━━━━━━━━━━━━━━━━━━━━━━━━━━━━━━━━━━\u001b[0m \u001b[32m0.0/48.9 kB\u001b[0m \u001b[31m?\u001b[0m eta \u001b[36m-:--:--\u001b[0m\r\u001b[2K     \u001b[90m━━━━━━━━━━━━━━━━━━━━━━━━━━━━━━━━━━━━━━━━\u001b[0m \u001b[32m48.9/48.9 kB\u001b[0m \u001b[31m1.5 MB/s\u001b[0m eta \u001b[36m0:00:00\u001b[0m\n",
            "\u001b[?25hRequirement already satisfied: aiohttp<4.0,>=3.0 in /usr/local/lib/python3.10/dist-packages (from cohere) (3.9.1)\n",
            "Collecting backoff<3.0,>=2.0 (from cohere)\n",
            "  Downloading backoff-2.2.1-py3-none-any.whl (15 kB)\n",
            "Collecting fastavro<2.0,>=1.8 (from cohere)\n",
            "  Downloading fastavro-1.9.1-cp310-cp310-manylinux_2_17_x86_64.manylinux2014_x86_64.whl (3.1 MB)\n",
            "\u001b[2K     \u001b[90m━━━━━━━━━━━━━━━━━━━━━━━━━━━━━━━━━━━━━━━━\u001b[0m \u001b[32m3.1/3.1 MB\u001b[0m \u001b[31m11.3 MB/s\u001b[0m eta \u001b[36m0:00:00\u001b[0m\n",
            "\u001b[?25hCollecting importlib_metadata<7.0,>=6.0 (from cohere)\n",
            "  Downloading importlib_metadata-6.11.0-py3-none-any.whl (23 kB)\n",
            "Requirement already satisfied: requests<3.0.0,>=2.25.0 in /usr/local/lib/python3.10/dist-packages (from cohere) (2.31.0)\n",
            "Requirement already satisfied: urllib3<3,>=1.26 in /usr/local/lib/python3.10/dist-packages (from cohere) (2.0.7)\n",
            "Requirement already satisfied: attrs>=17.3.0 in /usr/local/lib/python3.10/dist-packages (from aiohttp<4.0,>=3.0->cohere) (23.1.0)\n",
            "Requirement already satisfied: multidict<7.0,>=4.5 in /usr/local/lib/python3.10/dist-packages (from aiohttp<4.0,>=3.0->cohere) (6.0.4)\n",
            "Requirement already satisfied: yarl<2.0,>=1.0 in /usr/local/lib/python3.10/dist-packages (from aiohttp<4.0,>=3.0->cohere) (1.9.3)\n",
            "Requirement already satisfied: frozenlist>=1.1.1 in /usr/local/lib/python3.10/dist-packages (from aiohttp<4.0,>=3.0->cohere) (1.4.0)\n",
            "Requirement already satisfied: aiosignal>=1.1.2 in /usr/local/lib/python3.10/dist-packages (from aiohttp<4.0,>=3.0->cohere) (1.3.1)\n",
            "Requirement already satisfied: async-timeout<5.0,>=4.0 in /usr/local/lib/python3.10/dist-packages (from aiohttp<4.0,>=3.0->cohere) (4.0.3)\n",
            "Requirement already satisfied: zipp>=0.5 in /usr/local/lib/python3.10/dist-packages (from importlib_metadata<7.0,>=6.0->cohere) (3.17.0)\n",
            "Requirement already satisfied: charset-normalizer<4,>=2 in /usr/local/lib/python3.10/dist-packages (from requests<3.0.0,>=2.25.0->cohere) (3.3.2)\n",
            "Requirement already satisfied: idna<4,>=2.5 in /usr/local/lib/python3.10/dist-packages (from requests<3.0.0,>=2.25.0->cohere) (3.6)\n",
            "Requirement already satisfied: certifi>=2017.4.17 in /usr/local/lib/python3.10/dist-packages (from requests<3.0.0,>=2.25.0->cohere) (2023.11.17)\n",
            "Installing collected packages: importlib_metadata, fastavro, backoff, cohere\n",
            "  Attempting uninstall: importlib_metadata\n",
            "    Found existing installation: importlib-metadata 7.0.0\n",
            "    Uninstalling importlib-metadata-7.0.0:\n",
            "      Successfully uninstalled importlib-metadata-7.0.0\n",
            "\u001b[31mERROR: pip's dependency resolver does not currently take into account all the packages that are installed. This behaviour is the source of the following dependency conflicts.\n",
            "llmx 0.0.15a0 requires openai, which is not installed.\n",
            "llmx 0.0.15a0 requires tiktoken, which is not installed.\u001b[0m\u001b[31m\n",
            "\u001b[0mSuccessfully installed backoff-2.2.1 cohere-4.37 fastavro-1.9.1 importlib_metadata-6.11.0\n"
          ]
        }
      ]
    },
    {
      "cell_type": "code",
      "source": [
        "!pip install wikipedia-api"
      ],
      "metadata": {
        "colab": {
          "base_uri": "https://localhost:8080/"
        },
        "id": "1d_LSlELlmeN",
        "outputId": "a3aff7a9-2ab1-450d-81ff-8a682bbd17c6"
      },
      "execution_count": null,
      "outputs": [
        {
          "output_type": "stream",
          "name": "stdout",
          "text": [
            "Collecting wikipedia-api\n",
            "  Downloading Wikipedia_API-0.6.0-py3-none-any.whl (14 kB)\n",
            "Requirement already satisfied: requests in /usr/local/lib/python3.10/dist-packages (from wikipedia-api) (2.31.0)\n",
            "Requirement already satisfied: charset-normalizer<4,>=2 in /usr/local/lib/python3.10/dist-packages (from requests->wikipedia-api) (3.3.2)\n",
            "Requirement already satisfied: idna<4,>=2.5 in /usr/local/lib/python3.10/dist-packages (from requests->wikipedia-api) (3.6)\n",
            "Requirement already satisfied: urllib3<3,>=1.21.1 in /usr/local/lib/python3.10/dist-packages (from requests->wikipedia-api) (2.0.7)\n",
            "Requirement already satisfied: certifi>=2017.4.17 in /usr/local/lib/python3.10/dist-packages (from requests->wikipedia-api) (2023.11.17)\n",
            "Installing collected packages: wikipedia-api\n",
            "Successfully installed wikipedia-api-0.6.0\n"
          ]
        }
      ]
    },
    {
      "cell_type": "code",
      "source": [
        "# Inserir chave da API do Cohere\n",
        "from getpass import getpass\n",
        "\n",
        "COHERE_API_KEY = getpass()"
      ],
      "metadata": {
        "id": "MXS4gSa_QqSt",
        "colab": {
          "base_uri": "https://localhost:8080/"
        },
        "outputId": "5a9b7959-884d-410b-a8db-89ebe5e82bdd"
      },
      "execution_count": null,
      "outputs": [
        {
          "name": "stdout",
          "output_type": "stream",
          "text": [
            "··········\n"
          ]
        }
      ]
    },
    {
      "cell_type": "code",
      "source": [
        "# Bibliotecas para usar LLM\n",
        "from langchain.llms import Cohere\n",
        "from langchain.prompts import PromptTemplate\n",
        "from langchain.chains import LLMChain\n",
        "\n",
        "# Bliblioteca para usar API\n",
        "import wikipediaapi\n",
        "\n",
        "# Bibliotecas para auxiliar a extreação de textos\n",
        "import requests # para acessar a API sem o uso da biblioteca pynytimes\n",
        "import re # para uso de expressões regulares\n",
        "import json # para leitura, manipulação e escrita de arquivos no formato json\n",
        "import pandas as pd # para a exibição de dados na forma tabular"
      ],
      "metadata": {
        "id": "hIZbbIBNQwMM"
      },
      "execution_count": null,
      "outputs": []
    },
    {
      "cell_type": "markdown",
      "source": [
        "## **Estabelecendo ficha individual do perfil do usuário.**"
      ],
      "metadata": {
        "id": "FJmcNQtCUx-v"
      }
    },
    {
      "cell_type": "markdown",
      "source": [
        "1) Obter como entrada uma descrição pessoal fornecida pelo usuário."
      ],
      "metadata": {
        "id": "wGuH1EXzs10_"
      }
    },
    {
      "cell_type": "code",
      "source": [
        "# Estabelecendo uma ficha individual para fazer pesquisas baseadas no perfil do usuário\n",
        "\n",
        "# texto_perfil_usuario = str(input('Fale sobre você (max. 500 caracteres): '))[:500]\n",
        "texto_perfil_usuario = \"Sou um jovem de 25 anos. Trabalho como programador de computadores e sou estudante de Ciencia da Computaçao. Meu hobby é cozinhar todos os dias. Aos finais de semana, gosto de assistir a corridas de Formula 1 e acompanhar noticias sobre o meio ambiente.\""
      ],
      "metadata": {
        "id": "q3amkIOBtwqk"
      },
      "execution_count": null,
      "outputs": []
    },
    {
      "cell_type": "markdown",
      "source": [
        "2) Instanciando o modelo de LLM a ser utilizado.\n"
      ],
      "metadata": {
        "id": "hsPLlXrUU5rT"
      }
    },
    {
      "cell_type": "code",
      "source": [
        "llm_chat = Cohere(\n",
        "    cohere_api_key=COHERE_API_KEY,\n",
        "    temperature=0,\n",
        "    max_tokens=500\n",
        ")"
      ],
      "metadata": {
        "id": "Bbr10kyn0GUk"
      },
      "execution_count": null,
      "outputs": []
    },
    {
      "cell_type": "markdown",
      "source": [
        "3) Identificação de sentimentos.\n",
        "\n",
        "*Conhecer melhor a relação entre o usuário e seus interesses.*"
      ],
      "metadata": {
        "id": "g38KtwbKU9KB"
      }
    },
    {
      "cell_type": "code",
      "source": [
        "# Identificando os sentimentos presentes no texto fornecido pelo usuário para entender melhor o seu astral\n",
        "prompt = PromptTemplate.from_template(\"Which emotions or feelings would you attribute to the following description: {text}\")\n",
        "chain = prompt | llm_chat\n",
        "\n",
        "interests = chain.invoke({\"text\": texto_perfil_usuario})\n",
        "\n",
        "print(interests)"
      ],
      "metadata": {
        "colab": {
          "base_uri": "https://localhost:8080/"
        },
        "id": "HNjgcy_qB6cA",
        "outputId": "d8c54b8d-ffac-40a5-a345-1c30feba49af"
      },
      "execution_count": null,
      "outputs": [
        {
          "output_type": "stream",
          "name": "stdout",
          "text": [
            " The given description presents a young man who is 25 years old, works as a computer programmer, and studies Computer Science. He enjoys cooking daily and spends his weekends watching Formula 1 races and keeping up with environmental news. \n",
            "\n",
            "Based on this information, some of the emotions or feelings that could be associated with this description are:\n",
            "\n",
            "1. Passionate: The young man's dedication to working as a computer programmer and studying Computer Science suggests a deep passion for his field of work.\n",
            "\n",
            "2. Curious: His interest in keeping up with environmental news shows a curious mindset and a willingness to stay informed about current events beyond his immediate field of work.\n",
            "\n",
            "3. Relaxed: His enjoyment of cooking and spending weekends watching Formula 1 races suggests a person who likes to unwind and relax during his free time.\n",
            "\n",
            "4. Motivated: His dedication to working and studying simultaneously shows a motivated and ambitious attitude towards his career and personal development.\n",
            "\n",
            "5. Sociable: His enjoyment of cooking may indicate a desire to share meals and connect with others through the joy of food. \n",
            "\n",
            "It's important to note that the emotions and feelings attributed to this description are based on the information provided and may not fully represent the individual's personality or inner world. \n",
            "\n",
            "Would you like me to help you attribute more emotions to this description? \n"
          ]
        }
      ]
    },
    {
      "cell_type": "markdown",
      "source": [
        "4) Extração de palavras-chave.\n",
        "\n",
        "*Obter palavras-chave que vão servir como dados para os processos feitos com LLM.*"
      ],
      "metadata": {
        "id": "rZpywP55VFSa"
      }
    },
    {
      "cell_type": "code",
      "source": [
        "# Extraindo palavras-chave do perfil do usuário com o auxílio do LLM\n",
        "prompt = PromptTemplate.from_template(\"Make a concise bullet point of interests based on the following description: {text}\")\n",
        "chain = prompt | llm_chat\n",
        "\n",
        "interests = chain.invoke({\"text\": texto_perfil_usuario})\n",
        "\n",
        "print(interests)"
      ],
      "metadata": {
        "colab": {
          "base_uri": "https://localhost:8080/"
        },
        "id": "eXu2u9p-v1Xz",
        "outputId": "97287319-959b-471c-a7b1-ace8fe06278d"
      },
      "execution_count": null,
      "outputs": [
        {
          "output_type": "stream",
          "name": "stdout",
          "text": [
            " Here are some interests based on the given description:\n",
            "\n",
            "- Computing science: As a computer programmer and student of computing science, you have a keen interest in the field of computing and pursuing knowledge related to computers.\n",
            "- Cooking: You enjoy cooking daily, which suggests you have a passion for cuisine and experimenting with different recipes and flavors.\n",
            "- Formula 1 racing: You relish watching Formula 1 races on weekends. This indicates an interest in sports and automobiles.\n",
            "- Environment: You follow environmental news and keep up with current events related to the topic. Thus, you possess an inclination towards environmental awareness and sustainability.\n",
            "\n",
            "Would you like me to generate any other information based on the given description? \n"
          ]
        }
      ]
    },
    {
      "cell_type": "markdown",
      "source": [
        "5) Obter sinônimos das palavras-chave.\n",
        "\n",
        "*Objetivo: utilizar sinônimos para expandir a base de dados e evitar que alguma palavra-chave dê problema ao ser usada nos próximos processos.*"
      ],
      "metadata": {
        "id": "bBRKRJaXtMgr"
      }
    },
    {
      "cell_type": "code",
      "source": [
        "# Utilizando o LLM para gerar sinônimos para as palavras chave encontradas no texto\n",
        "prompt = PromptTemplate.from_template(\"{text} For each item form the aforementioned list, give 5 synonyms and provide them in a json dictionary of lists\")\n",
        "chain = prompt | llm_chat\n",
        "\n",
        "interests_topics = chain.invoke({\"text\": interests})\n",
        "\n",
        "# print(interests_topics)\n",
        "\n",
        "# definindo função para extrair json do texto fornecido pelo LLM\n",
        "def dict_extractor(text):\n",
        "  pattern = re.compile(r'{[^}]+}', re.DOTALL)\n",
        "  match = pattern.search(text)\n",
        "\n",
        "  if match:\n",
        "      extracted_interests = match.group()\n",
        "      interests_dict = json.loads(extracted_interests)\n",
        "      # Normalizando os textos dos tópicos de interesse\n",
        "      interests_dict = {interest: [item.strip().replace(\" \", \"_\").capitalize() for item in interest_variation]\n",
        "                          for interest, interest_variation in interests_dict.items()}\n",
        "      return interests_dict\n",
        "  else:\n",
        "      return\"No match found.\"\n",
        "\n",
        "# estraindo json como um dicionário python\n",
        "interests_dict = dict_extractor(interests_topics)\n",
        "\n",
        "pd.DataFrame(interests_dict)"
      ],
      "metadata": {
        "colab": {
          "base_uri": "https://localhost:8080/",
          "height": 206
        },
        "id": "yuUebkjezgFc",
        "outputId": "adbfdf21-6cb1-410c-97a6-d570ec25cafa"
      },
      "execution_count": null,
      "outputs": [
        {
          "output_type": "execute_result",
          "data": {
            "text/plain": [
              "        computing_science                 cooking formula_1_racing  \\\n",
              "0             Informatics                 Cuisine      Auto_racing   \n",
              "1           Computerology           Culinary_arts     Motor_racing   \n",
              "2             Cybernetics              Gastronomy       Car_racing   \n",
              "3    Software_engineering  Recipe_experimentation   Formula_racing   \n",
              "4  Information_technology        Food_preparation     Speed_racing   \n",
              "\n",
              "    environment  \n",
              "0       Ecology  \n",
              "1  Conservation  \n",
              "2        Nature  \n",
              "3       Climate  \n",
              "4  Biodiversity  "
            ],
            "text/html": [
              "\n",
              "  <div id=\"df-63c3d427-15f2-461d-bb5f-4411a3496fea\" class=\"colab-df-container\">\n",
              "    <div>\n",
              "<style scoped>\n",
              "    .dataframe tbody tr th:only-of-type {\n",
              "        vertical-align: middle;\n",
              "    }\n",
              "\n",
              "    .dataframe tbody tr th {\n",
              "        vertical-align: top;\n",
              "    }\n",
              "\n",
              "    .dataframe thead th {\n",
              "        text-align: right;\n",
              "    }\n",
              "</style>\n",
              "<table border=\"1\" class=\"dataframe\">\n",
              "  <thead>\n",
              "    <tr style=\"text-align: right;\">\n",
              "      <th></th>\n",
              "      <th>computing_science</th>\n",
              "      <th>cooking</th>\n",
              "      <th>formula_1_racing</th>\n",
              "      <th>environment</th>\n",
              "    </tr>\n",
              "  </thead>\n",
              "  <tbody>\n",
              "    <tr>\n",
              "      <th>0</th>\n",
              "      <td>Informatics</td>\n",
              "      <td>Cuisine</td>\n",
              "      <td>Auto_racing</td>\n",
              "      <td>Ecology</td>\n",
              "    </tr>\n",
              "    <tr>\n",
              "      <th>1</th>\n",
              "      <td>Computerology</td>\n",
              "      <td>Culinary_arts</td>\n",
              "      <td>Motor_racing</td>\n",
              "      <td>Conservation</td>\n",
              "    </tr>\n",
              "    <tr>\n",
              "      <th>2</th>\n",
              "      <td>Cybernetics</td>\n",
              "      <td>Gastronomy</td>\n",
              "      <td>Car_racing</td>\n",
              "      <td>Nature</td>\n",
              "    </tr>\n",
              "    <tr>\n",
              "      <th>3</th>\n",
              "      <td>Software_engineering</td>\n",
              "      <td>Recipe_experimentation</td>\n",
              "      <td>Formula_racing</td>\n",
              "      <td>Climate</td>\n",
              "    </tr>\n",
              "    <tr>\n",
              "      <th>4</th>\n",
              "      <td>Information_technology</td>\n",
              "      <td>Food_preparation</td>\n",
              "      <td>Speed_racing</td>\n",
              "      <td>Biodiversity</td>\n",
              "    </tr>\n",
              "  </tbody>\n",
              "</table>\n",
              "</div>\n",
              "    <div class=\"colab-df-buttons\">\n",
              "\n",
              "  <div class=\"colab-df-container\">\n",
              "    <button class=\"colab-df-convert\" onclick=\"convertToInteractive('df-63c3d427-15f2-461d-bb5f-4411a3496fea')\"\n",
              "            title=\"Convert this dataframe to an interactive table.\"\n",
              "            style=\"display:none;\">\n",
              "\n",
              "  <svg xmlns=\"http://www.w3.org/2000/svg\" height=\"24px\" viewBox=\"0 -960 960 960\">\n",
              "    <path d=\"M120-120v-720h720v720H120Zm60-500h600v-160H180v160Zm220 220h160v-160H400v160Zm0 220h160v-160H400v160ZM180-400h160v-160H180v160Zm440 0h160v-160H620v160ZM180-180h160v-160H180v160Zm440 0h160v-160H620v160Z\"/>\n",
              "  </svg>\n",
              "    </button>\n",
              "\n",
              "  <style>\n",
              "    .colab-df-container {\n",
              "      display:flex;\n",
              "      gap: 12px;\n",
              "    }\n",
              "\n",
              "    .colab-df-convert {\n",
              "      background-color: #E8F0FE;\n",
              "      border: none;\n",
              "      border-radius: 50%;\n",
              "      cursor: pointer;\n",
              "      display: none;\n",
              "      fill: #1967D2;\n",
              "      height: 32px;\n",
              "      padding: 0 0 0 0;\n",
              "      width: 32px;\n",
              "    }\n",
              "\n",
              "    .colab-df-convert:hover {\n",
              "      background-color: #E2EBFA;\n",
              "      box-shadow: 0px 1px 2px rgba(60, 64, 67, 0.3), 0px 1px 3px 1px rgba(60, 64, 67, 0.15);\n",
              "      fill: #174EA6;\n",
              "    }\n",
              "\n",
              "    .colab-df-buttons div {\n",
              "      margin-bottom: 4px;\n",
              "    }\n",
              "\n",
              "    [theme=dark] .colab-df-convert {\n",
              "      background-color: #3B4455;\n",
              "      fill: #D2E3FC;\n",
              "    }\n",
              "\n",
              "    [theme=dark] .colab-df-convert:hover {\n",
              "      background-color: #434B5C;\n",
              "      box-shadow: 0px 1px 3px 1px rgba(0, 0, 0, 0.15);\n",
              "      filter: drop-shadow(0px 1px 2px rgba(0, 0, 0, 0.3));\n",
              "      fill: #FFFFFF;\n",
              "    }\n",
              "  </style>\n",
              "\n",
              "    <script>\n",
              "      const buttonEl =\n",
              "        document.querySelector('#df-63c3d427-15f2-461d-bb5f-4411a3496fea button.colab-df-convert');\n",
              "      buttonEl.style.display =\n",
              "        google.colab.kernel.accessAllowed ? 'block' : 'none';\n",
              "\n",
              "      async function convertToInteractive(key) {\n",
              "        const element = document.querySelector('#df-63c3d427-15f2-461d-bb5f-4411a3496fea');\n",
              "        const dataTable =\n",
              "          await google.colab.kernel.invokeFunction('convertToInteractive',\n",
              "                                                    [key], {});\n",
              "        if (!dataTable) return;\n",
              "\n",
              "        const docLinkHtml = 'Like what you see? Visit the ' +\n",
              "          '<a target=\"_blank\" href=https://colab.research.google.com/notebooks/data_table.ipynb>data table notebook</a>'\n",
              "          + ' to learn more about interactive tables.';\n",
              "        element.innerHTML = '';\n",
              "        dataTable['output_type'] = 'display_data';\n",
              "        await google.colab.output.renderOutput(dataTable, element);\n",
              "        const docLink = document.createElement('div');\n",
              "        docLink.innerHTML = docLinkHtml;\n",
              "        element.appendChild(docLink);\n",
              "      }\n",
              "    </script>\n",
              "  </div>\n",
              "\n",
              "\n",
              "<div id=\"df-647d931b-d418-4a8b-a243-8ee8f9a835c8\">\n",
              "  <button class=\"colab-df-quickchart\" onclick=\"quickchart('df-647d931b-d418-4a8b-a243-8ee8f9a835c8')\"\n",
              "            title=\"Suggest charts\"\n",
              "            style=\"display:none;\">\n",
              "\n",
              "<svg xmlns=\"http://www.w3.org/2000/svg\" height=\"24px\"viewBox=\"0 0 24 24\"\n",
              "     width=\"24px\">\n",
              "    <g>\n",
              "        <path d=\"M19 3H5c-1.1 0-2 .9-2 2v14c0 1.1.9 2 2 2h14c1.1 0 2-.9 2-2V5c0-1.1-.9-2-2-2zM9 17H7v-7h2v7zm4 0h-2V7h2v10zm4 0h-2v-4h2v4z\"/>\n",
              "    </g>\n",
              "</svg>\n",
              "  </button>\n",
              "\n",
              "<style>\n",
              "  .colab-df-quickchart {\n",
              "      --bg-color: #E8F0FE;\n",
              "      --fill-color: #1967D2;\n",
              "      --hover-bg-color: #E2EBFA;\n",
              "      --hover-fill-color: #174EA6;\n",
              "      --disabled-fill-color: #AAA;\n",
              "      --disabled-bg-color: #DDD;\n",
              "  }\n",
              "\n",
              "  [theme=dark] .colab-df-quickchart {\n",
              "      --bg-color: #3B4455;\n",
              "      --fill-color: #D2E3FC;\n",
              "      --hover-bg-color: #434B5C;\n",
              "      --hover-fill-color: #FFFFFF;\n",
              "      --disabled-bg-color: #3B4455;\n",
              "      --disabled-fill-color: #666;\n",
              "  }\n",
              "\n",
              "  .colab-df-quickchart {\n",
              "    background-color: var(--bg-color);\n",
              "    border: none;\n",
              "    border-radius: 50%;\n",
              "    cursor: pointer;\n",
              "    display: none;\n",
              "    fill: var(--fill-color);\n",
              "    height: 32px;\n",
              "    padding: 0;\n",
              "    width: 32px;\n",
              "  }\n",
              "\n",
              "  .colab-df-quickchart:hover {\n",
              "    background-color: var(--hover-bg-color);\n",
              "    box-shadow: 0 1px 2px rgba(60, 64, 67, 0.3), 0 1px 3px 1px rgba(60, 64, 67, 0.15);\n",
              "    fill: var(--button-hover-fill-color);\n",
              "  }\n",
              "\n",
              "  .colab-df-quickchart-complete:disabled,\n",
              "  .colab-df-quickchart-complete:disabled:hover {\n",
              "    background-color: var(--disabled-bg-color);\n",
              "    fill: var(--disabled-fill-color);\n",
              "    box-shadow: none;\n",
              "  }\n",
              "\n",
              "  .colab-df-spinner {\n",
              "    border: 2px solid var(--fill-color);\n",
              "    border-color: transparent;\n",
              "    border-bottom-color: var(--fill-color);\n",
              "    animation:\n",
              "      spin 1s steps(1) infinite;\n",
              "  }\n",
              "\n",
              "  @keyframes spin {\n",
              "    0% {\n",
              "      border-color: transparent;\n",
              "      border-bottom-color: var(--fill-color);\n",
              "      border-left-color: var(--fill-color);\n",
              "    }\n",
              "    20% {\n",
              "      border-color: transparent;\n",
              "      border-left-color: var(--fill-color);\n",
              "      border-top-color: var(--fill-color);\n",
              "    }\n",
              "    30% {\n",
              "      border-color: transparent;\n",
              "      border-left-color: var(--fill-color);\n",
              "      border-top-color: var(--fill-color);\n",
              "      border-right-color: var(--fill-color);\n",
              "    }\n",
              "    40% {\n",
              "      border-color: transparent;\n",
              "      border-right-color: var(--fill-color);\n",
              "      border-top-color: var(--fill-color);\n",
              "    }\n",
              "    60% {\n",
              "      border-color: transparent;\n",
              "      border-right-color: var(--fill-color);\n",
              "    }\n",
              "    80% {\n",
              "      border-color: transparent;\n",
              "      border-right-color: var(--fill-color);\n",
              "      border-bottom-color: var(--fill-color);\n",
              "    }\n",
              "    90% {\n",
              "      border-color: transparent;\n",
              "      border-bottom-color: var(--fill-color);\n",
              "    }\n",
              "  }\n",
              "</style>\n",
              "\n",
              "  <script>\n",
              "    async function quickchart(key) {\n",
              "      const quickchartButtonEl =\n",
              "        document.querySelector('#' + key + ' button');\n",
              "      quickchartButtonEl.disabled = true;  // To prevent multiple clicks.\n",
              "      quickchartButtonEl.classList.add('colab-df-spinner');\n",
              "      try {\n",
              "        const charts = await google.colab.kernel.invokeFunction(\n",
              "            'suggestCharts', [key], {});\n",
              "      } catch (error) {\n",
              "        console.error('Error during call to suggestCharts:', error);\n",
              "      }\n",
              "      quickchartButtonEl.classList.remove('colab-df-spinner');\n",
              "      quickchartButtonEl.classList.add('colab-df-quickchart-complete');\n",
              "    }\n",
              "    (() => {\n",
              "      let quickchartButtonEl =\n",
              "        document.querySelector('#df-647d931b-d418-4a8b-a243-8ee8f9a835c8 button');\n",
              "      quickchartButtonEl.style.display =\n",
              "        google.colab.kernel.accessAllowed ? 'block' : 'none';\n",
              "    })();\n",
              "  </script>\n",
              "</div>\n",
              "    </div>\n",
              "  </div>\n"
            ]
          },
          "metadata": {},
          "execution_count": 17
        }
      ]
    },
    {
      "cell_type": "markdown",
      "source": [
        "## **Extração de textos com a API da Wikipedia.**"
      ],
      "metadata": {
        "id": "yx2bq9TXVV9-"
      }
    },
    {
      "cell_type": "markdown",
      "source": [
        "1) Instanciamento da API da Wikipedia."
      ],
      "metadata": {
        "id": "JuZFH27ntslD"
      }
    },
    {
      "cell_type": "code",
      "source": [
        "# instanciando a API da Wikipedia para econtrar mais dados sobre os tópicos de interesse do usuário\n",
        "wiki_wiki = wikipediaapi.Wikipedia(user_agent='UFABC_NLP_SUBJECT (joao.hugo@aluno.ufabc.edu.br)',\n",
        "                                   language='en',\n",
        "                                   extract_format=wikipediaapi.ExtractFormat.WIKI)"
      ],
      "metadata": {
        "id": "21svzCActqzU"
      },
      "execution_count": null,
      "outputs": []
    },
    {
      "cell_type": "markdown",
      "source": [
        "2) Buscar páginas da Wikipedia de acordo com as palavras-chave reunidas."
      ],
      "metadata": {
        "id": "BMVflHsNtxMd"
      }
    },
    {
      "cell_type": "code",
      "source": [
        "# Pesquisando os items de interesse com o auxilio da API da Wikipedia\n",
        "wikipedia_pages = {key : {} for key in interests_dict.keys()}\n",
        "for interest in interests_dict.keys():\n",
        "    for interest_synonym in interests_dict[interest]:\n",
        "        interest_page = wiki_wiki.page(interest_synonym)\n",
        "        if interest_page.exists():\n",
        "            wikipedia_pages[interest]['Title'] = interest_page.title\n",
        "            wikipedia_pages[interest]['Summary'] = interest_page.summary\n",
        "            # limitando o numero de caracteres para que seja legivel pelo LLM\n",
        "            wikipedia_pages[interest]['Text'] = interest_page.text[len(interest_page.summary)+1:len(interest_page.summary)+2048*2]\n",
        "            wikipedia_pages[interest]['Categories'] = interest_page.categories\n",
        "            break\n",
        "\n",
        "print(wikipedia_pages)"
      ],
      "metadata": {
        "colab": {
          "base_uri": "https://localhost:8080/"
        },
        "id": "oHaZW7k22oI0",
        "outputId": "44c5e5d9-d4ba-4923-ada5-e5b82e4c03a0"
      },
      "execution_count": null,
      "outputs": [
        {
          "output_type": "stream",
          "name": "stdout",
          "text": [
            "{'computing_science': {'Title': 'Informatics', 'Summary': 'Informatics is the study of computational systems. According to the ACM Europe Council and Informatics Europe, informatics is synonymous with computer science and computing as a profession, in which the central notion is transformation of information. In some cases, the term \"informatics\" may also be used with different meanings, e.g. in the context of social computing, or in context of library science.', 'Text': '\\nDifferent meanings\\nIn some countries, depending on local interpretations, the term \"informatics\" is used synonymously to mean information systems, information science, information theory, information engineering, information technology, information processing, or other theoretical or practical fields. In Germany, the term informatics almost exactly corresponds to modern computer science. Accordingly, universities in continental Europe usually translate \"informatics\" as computer science, or sometimes information and computer science, although technical universities may translate it as computer science & engineering.In the United States, however, the term informatics is mostly used in context of data science, library science or its applications in healthcare (health informatics), where it first appeared in the US.\\nThe University of Washington uses this term to refer to social computing. In some countries, this term is associated with natural computation and neural computation.The Government of Canada uses the term to refer to operational units offering network and computer services to the various departments.\\n\\nEtymology\\nIn 1956, the German informatician Karl Steinbuch and engineer Helmut Gröttrup coined the word Informatik when they developed the Informatik-Anlage for the Quelle mail-order management, one of the earliest commercial applications of data processing. In April 1957, Steinbuch published a paper called Informatik: Automatische Informationsverarbeitung (\"Informatics: Automatic Information Processing\"). The morphology—informat-ion + -ics—uses \"the accepted form for names of sciences, as conics, mathematics, linguistics, optics, or matters of practice, as economics, politics, tactics\", and so, linguistically, the meaning extends easily to encompass both the science of information and the practice of information processing. The German word Informatik is usually translated to English as computer science by universities or computer science & engineering by technical universities (German equivalents for institutes of technology). Depending on the context, informatics is also translated into computing, scientific computing or information and computer technology. The French term informatique was coined in 1962 by Philippe Dreyfus. In the same month was also proposed independently by Walter F. Bauer (1924–2015) and associates who co-founded software company Informatics Inc. The term for the new discipline quickly spread throughout Europe, but it did not catch on in the United States. Over the years, many different definitions of informatics have been developed, most of them claim that the essence of informatics is one of these concepts: information processing, algorithms, computation, information, algorithmic processes, computational processes or computational systems.\\n\\nThe earliest uses of the term informatics in the United States was during the 1950s with the beginning of computer use in healthcare.  Early practitioners interested in the field soon learned that there were no formal education programs, and none emerged until the late 1960s. They introduced the term informatics only in the context of archival science, which is only a small part of informatics. Professional development, therefore, played a significant role in the development of health informatics. According to Imhoff et al., 2001, healthcare informatics is not only the application of computer technology to problems in healthcare, but covers all aspects of generation, handling, communication, storage, retrieval, management, analysis, discovery, and synthesis of data information and knowledge in the entire scope of healthcare. Furthermore, they stated that the primary goal of health informatics can be distinguished as follows: To provide solutions for problems related to data, information, and knowledge processing. To study general principles of processing data information and knowledge in medicine and healthcare. The term health informatics quickly spread throughout the United States in various forms such as nursing informatics, public health informatics ', 'Categories': {'Category:Articles with hatnote templates targeting a nonexistent page': Category:Articles with hatnote templates targeting a nonexistent page (id: ??, ns: 14), 'Category:Articles with short description': Category:Articles with short description (id: ??, ns: 14), 'Category:CS1 German-language sources (de)': Category:CS1 German-language sources (de) (id: ??, ns: 14), 'Category:CS1 maint: location missing publisher': Category:CS1 maint: location missing publisher (id: ??, ns: 14), 'Category:Cognitive science': Category:Cognitive science (id: ??, ns: 14), 'Category:Computational fields of study': Category:Computational fields of study (id: ??, ns: 14), 'Category:Computer science education': Category:Computer science education (id: ??, ns: 14), 'Category:Information science': Category:Information science (id: ??, ns: 14), 'Category:Schools of informatics': Category:Schools of informatics (id: ??, ns: 14), 'Category:Short description is different from Wikidata': Category:Short description is different from Wikidata (id: ??, ns: 14)}}, 'cooking': {'Title': 'Cuisine', 'Summary': 'A cuisine  is a style of cooking characterized by distinctive ingredients, techniques and dishes, and usually associated with a specific culture or geographic region. Regional food preparation techniques, customs, and ingredients combine to enable dishes unique to a region.', 'Text': '\\nEtymology\\nUsed in English since the late 18th century, the word cuisine – meaning manner or style of cooking – is borrowed from the French for \"style of cooking\", as originally derived from Latin coquere \"to cook\".\\n\\nInfluences on cuisine\\nA cuisine is partly determined by ingredients that are available locally or through trade. Regional ingredients are developed and commonly contribute to a regional or national cuisine, such as Japanese rice in Japanese cuisine.\\nReligious food laws can also exercise an influence on cuisine, such as Indian cuisine and Hinduism that is mainly lacto-vegetarian (avoiding meat and eggs) due to sacred animal worship. Sikhism in Punjabi cuisine, Buddhism in East Asian cuisine, Christianity in European cuisine, Islam in Middle Eastern cuisine, and Judaism in Jewish and Israeli cuisine all exercise an influence on cuisine.\\nSome factors that have an influence on a region\\'s cuisine include the area\\'s climate, the trade among different countries, religious or sumptuary laws and culinary culture exchange. For example, a tropical diet may be based more on fruits and vegetables, while a polar diet might rely more on meat and fish.\\nThe area\\'s climate, in large measure, determines the native foods that are available. In addition, climate influences food preservation. For example, foods preserved for winter consumption by smoking, curing, and pickling have remained significant in world cuisines for their altered gustatory properties.\\nThe trade among different countries also largely affects a region\\'s cuisine. Dating back to the ancient spice trade, seasonings such as cinnamon, cassia, cardamom, ginger, and turmeric were important items of commerce in the earliest evolution of trade, and India was a global market for this. Cinnamon and cassia found their way to the Middle East at least 4,000 years ago.Certain foods and food preparations are required or proscribed by the religiousness or sumptuary laws, such as Islamic dietary laws and Jewish dietary laws.\\nCulinary culture exchange is also an important factor for cuisine in many regions: Japan\\'s first substantial and direct exposure to the West came with the arrival of European missionaries in the second half of the 16th century. At that time, the combination of Spanish and Portuguese game frying techniques with an East Asian method for cooking vegetables in oil, led to the development of tempura, the \"popular Japanese dish in which seafood and many different types of vegetables are coated with batter and deep fried\".\\n\\nHistory\\nCuisine dates back to  Antiquity. As food began to require more planning, there was an emergence of meals that situated around culture.\\n\\nEvolution of cuisine\\nCuisines evolve continually, and new cuisines are created by innovation and cultural interaction. One recent example is fusion cuisine, which combines elements of various culinary traditions while not being categorized per any one cuisine style, and generally refers to the innovations in many contemporary restaurant cuisines since the 1970s. Nouvelle cuisine (New cuisine) is an approach to cooking and food presentation in French cuisine that was popularized in the 1960s by the food critics Henri Gault, who invented the phrase, and his colleagues André Gayot and Christian Millau in a new restaurant guide, the Gault-Millau, or Le Nouveau Guide. Molecular cuisine, is a modern style of cooking which takes advantage of many technical innovations from the scientific disciplines (molecular cooking). The term was coined in 1999 by the French INRA chemist Hervé . This because he wanted to distinguish it from the name Molecular gastronomy (a scientific activity) that was  introduced by him and the late Oxford physicist Nicholas Kurti in 1988. It is also named as multi sensory cooking, modernist cuisine, culinary physics, and experimental cuisine by some chefs. Besides, international trade brings new foodstuffs including ingredients to existing cuisines and leads to changes. The introduction of hot pepper to China from South America around the end of the 17th century, greatly influencing S', 'Categories': {'Category:All articles lacking in-text citations': Category:All articles lacking in-text citations (id: ??, ns: 14), 'Category:Articles containing Chinese-language text': Category:Articles containing Chinese-language text (id: ??, ns: 14), 'Category:Articles lacking in-text citations from August 2023': Category:Articles lacking in-text citations from August 2023 (id: ??, ns: 14), 'Category:Articles with GND identifiers': Category:Articles with GND identifiers (id: ??, ns: 14), 'Category:Articles with NDL identifiers': Category:Articles with NDL identifiers (id: ??, ns: 14), 'Category:Articles with short description': Category:Articles with short description (id: ??, ns: 14), 'Category:Cooking': Category:Cooking (id: ??, ns: 14), 'Category:Cuisine': Category:Cuisine (id: ??, ns: 14), 'Category:Pages using Sister project links with default search': Category:Pages using Sister project links with default search (id: ??, ns: 14), 'Category:Short description matches Wikidata': Category:Short description matches Wikidata (id: ??, ns: 14), 'Category:Use dmy dates from February 2017': Category:Use dmy dates from February 2017 (id: ??, ns: 14)}}, 'formula_1_racing': {'Title': 'Auto racing', 'Summary': 'Auto racing (also known as car racing, motor racing, or automobile racing) is a motorsport involving the racing of automobiles for competition.\\nAuto racing has existed since the invention of the automobile. Races of various sorts were organised, with the first recorded as early as 1867. Many of the earliest events were effectively reliability trials, aimed at proving these new machines were a practical mode of transport, but soon became an important way for automobile makers to demonstrate their machines. By the 1930s, specialist racing cars had developed.\\nThere are now numerous different categories, each with different rules and regulations.', 'Text': '\\nHistory\\nThe first prearranged match race of two self-powered road vehicles over a prescribed route occurred at 4:30 A.M. on August 30, 1867, between Ashton-under-Lyne and Old Trafford, England, a distance of 8 mi (13 km). It was won by the carriage of Isaac Watt Boulton.Internal combustion auto racing events began soon after the construction of the first successful gasoline-fueled automobiles. The first organized contest was on April 28, 1887, by the chief editor of Paris publication Le Vélocipède, Monsieur Fossier. It ran 2 kilometres (1.2 mi) from Neuilly Bridge to the Bois de Boulogne.\\nOn July 22, 1894, the Parisian magazine Le Petit Journal organized what is considered to be the world\\'s first motoring competition, from Paris to Rouen. One hundred and two competitors paid a 10-franc entrance fee.The first American automobile race is generally held to be the Thanksgiving Day Chicago Times-Herald race of November 28, 1895. Press coverage of the event first aroused significant American interest in the automobile.The Targa Florio was an open road endurance automobile race held in the mountains of Sicily, Italy near the island\\'s capital of Palermo. Founded in 1906, it was the oldest sports car racing event, part of the World Sportscar Championship between 1955 and 1973.\\nThe oldest surviving sports car racing event is the 24 Hours of Le Mans, begun in 1923. It is run by the Automobile Club of the West (ACO). Team Ferrari won the race in 2023. \\nWith auto construction and racing dominated by France, the French automobile club ACF staged a number of major international races, usually from or to Paris, connecting with another major city, in France or elsewhere in Europe.\\nAspendale Racecourse, in Australia, was the world\\'s first purpose-built motor racing circuit, opening in January 1906. The pear-shaped track was close to a mile in length, with slightly banked curves and a gravel surface of crushed cement.\\nBrooklands, in Surrey, England, was the first purpose-built \\'banked\\' motor racing venue, opening in June 1907. It featured a 4.43 km (2.75 mi) concrete track with high-speed banked corners.\\nOne of the oldest existing purpose-built automobile racing circuits in the United States, still in use, is the 2.5-mile-long (4.0 km) Indianapolis Motor Speedway in Speedway, Indiana. It is the largest capacity sports venue of any variety worldwide, with a top capacity of some 257,000+ seated spectators.NASCAR was founded by Bill France Sr. on February 21, 1948, with the help of several other drivers of the time. The first NASCAR \"Strictly Stock\" race ever was held on June 19, 1949, at Daytona Beach, Florida, U.S..\\nFrom 1962, sports cars temporarily took a back seat to GT cars, with the Fédération Internationale de l\\'Automobile (FIA) replacing the World Championship for Sports Cars with the International Championship for GT Manufacturers.From 1962 through 2003, NASCAR\\'s premier series was called the Winston Cup Series, sponsored by R. J. Reynolds Tobacco Company cigarette brand Winston. The changes that resulted from RJR\\'s involvement, as well as the reduction of the schedule from 56 to 34 races a year, established 1972 as the beginning of NASCAR\\'s \"modern era\".\\nThe IMSA GT Series evolved into the American Le Mans Series, which ran its first season in 1998. The European races eventually became the closely related European Le Mans Series, both of which mix prototypes and GTs.\\nTurismo Carretera (TC) is a popular touring car racing series in Argentina, and one of the oldest car racing series still active in the world. The first TC competition took place in 1931 with 12 races, each in a different province. Future Formula One star Juan Manuel Fangio (Chevrolet) won the 1940 and 1941 editions of the TC. It was during this time that the series\\' Chevrolet-Ford rivalry began, with Ford acquiring most of its historical victories.\\nOver the last few years, auto racing has seen a transformative shift, echoing past pivots. The industry, much like the cars it champions, has had to navigate through the hairpin turns of a global pandemic and a persistent', 'Categories': {'Category:All articles needing additional references': Category:All articles needing additional references (id: ??, ns: 14), 'Category:All articles with dead external links': Category:All articles with dead external links (id: ??, ns: 14), 'Category:All articles with unsourced statements': Category:All articles with unsourced statements (id: ??, ns: 14), 'Category:Articles containing French-language text': Category:Articles containing French-language text (id: ??, ns: 14), 'Category:Articles containing Spanish-language text': Category:Articles containing Spanish-language text (id: ??, ns: 14), 'Category:Articles needing additional references from February 2013': Category:Articles needing additional references from February 2013 (id: ??, ns: 14), 'Category:Articles with BNE identifiers': Category:Articles with BNE identifiers (id: ??, ns: 14), 'Category:Articles with BNF identifiers': Category:Articles with BNF identifiers (id: ??, ns: 14), 'Category:Articles with BNFdata identifiers': Category:Articles with BNFdata identifiers (id: ??, ns: 14), 'Category:Articles with GND identifiers': Category:Articles with GND identifiers (id: ??, ns: 14), 'Category:Articles with J9U identifiers': Category:Articles with J9U identifiers (id: ??, ns: 14), 'Category:Articles with LCCN identifiers': Category:Articles with LCCN identifiers (id: ??, ns: 14), 'Category:Articles with NARA identifiers': Category:Articles with NARA identifiers (id: ??, ns: 14), 'Category:Articles with NKC identifiers': Category:Articles with NKC identifiers (id: ??, ns: 14), 'Category:Articles with dead external links from March 2018': Category:Articles with dead external links from March 2018 (id: ??, ns: 14), 'Category:Articles with permanently dead external links': Category:Articles with permanently dead external links (id: ??, ns: 14), 'Category:Articles with short description': Category:Articles with short description (id: ??, ns: 14), 'Category:Articles with unsourced statements from July 2023': Category:Articles with unsourced statements from July 2023 (id: ??, ns: 14), 'Category:Auto racing': Category:Auto racing (id: ??, ns: 14), 'Category:CS1: Julian–Gregorian uncertainty': Category:CS1: Julian–Gregorian uncertainty (id: ??, ns: 14), 'Category:CS1 French-language sources (fr)': Category:CS1 French-language sources (fr) (id: ??, ns: 14), 'Category:Commons category link is on Wikidata': Category:Commons category link is on Wikidata (id: ??, ns: 14), 'Category:Short description matches Wikidata': Category:Short description matches Wikidata (id: ??, ns: 14), 'Category:Use mdy dates from March 2022': Category:Use mdy dates from March 2022 (id: ??, ns: 14)}}, 'environment': {'Title': 'Ecology', 'Summary': \"Ecology (from Ancient Greek  οἶκος (oîkos) 'house', and  -λογία (-logía) 'study of') is the study of the relationships among living organisms, including humans, and their physical environment. Ecology considers organisms at the individual, population, community, ecosystem, and biosphere level. Ecology overlaps with the closely related sciences of biogeography, evolutionary biology, genetics, ethology, and natural history. \\nEcology is a branch of biology, and is the study of abundance, biomass, and distribution of organisms in the context of the environment. It encompasses life processes, interactions, and adaptations; movement of materials and energy through living communities; successional development of ecosystems; cooperation, competition, and predation within and between species; and patterns of biodiversity and its effect on ecosystem processes.\\nEcology has practical applications in conservation biology, wetland management, natural resource management (agroecology, agriculture, forestry, agroforestry, fisheries, mining, tourism), urban planning (urban ecology), community health, economics, basic and applied science, and human social interaction (human ecology).\\nThe word ecology (German: Ökologie) was coined in 1866 by the German scientist Ernst Haeckel. The science of ecology as we know it today began with a group of American botanists in the 1890s. Evolutionary concepts relating to adaptation and natural selection are cornerstones of modern ecological theory.\\nEcosystems are dynamically interacting systems of organisms, the communities they make up, and the non-living (abiotic) components of their environment. Ecosystem processes, such as primary production, nutrient cycling, and niche construction, regulate the flux of energy and matter through an environment. Ecosystems have biophysical feedback mechanisms that moderate processes acting on living (biotic) and abiotic components of the planet. Ecosystems sustain life-supporting functions and provide ecosystem services like biomass production (food, fuel, fiber, and medicine), the regulation of climate, global biogeochemical cycles, water filtration, soil formation, erosion control, flood protection, and many other natural features of scientific, historical, economic, or intrinsic value.\", 'Text': '\\nLevels, scope, and scale of organization\\nThe scope of ecology contains a wide array of interacting levels of organization spanning micro-level (e.g., cells) to a planetary scale (e.g., biosphere) phenomena. Ecosystems, for example, contain abiotic resources and interacting life forms (i.e., individual organisms that aggregate into populations which aggregate into distinct ecological communities). Because ecosystems are dynamic and don\\'t necessarily follow a linear successional route, changes might occur quickly or slowly over thousands of years before specific forest successional stages are brought about by biological processes.. An ecosystem\\'s area can vary greatly, from tiny to vast. A single tree is of little consequence to the classification of a forest ecosystem, but is critically relevant to organisms living in and on it. Several generations of an aphid population can exist over the lifespan of a single leaf. Each of those aphids, in turn, supports diverse bacterial communities. The nature of connections in ecological communities cannot be explained by knowing the details of each species in isolation, because the emergent pattern is neither revealed nor predicted until the ecosystem is studied as an integrated whole. Some ecological principles, however, do exhibit collective properties where the sum of the components explain the properties of the whole, such as birth rates of a population being equal to the sum of individual births over a designated time frame.The main subdisciplines of ecology, population (or community) ecology and ecosystem ecology, exhibit a difference not only in scale but also in two contrasting paradigms in the field. The former focuses on organisms\\' distribution and abundance, while the latter focuses on materials and energy fluxes.\\n\\nHierarchy\\nThe scale of ecological dynamics can operate like a closed system, such as aphids migrating on a single tree, while at the same time remaining open with regard to broader scale influences, such as atmosphere or climate. Hence, ecologists classify ecosystems hierarchically by analyzing data collected from finer scale units, such as vegetation associations, climate, and soil types, and integrate this information to identify emergent patterns of uniform organization and processes that operate on local to regional, landscape, and chronological scales.\\nTo structure the study of ecology into a conceptually manageable framework, the biological world is organized into a nested hierarchy, ranging in scale from genes, to cells, to tissues, to organs, to organisms, to species, to populations, to communities, to ecosystems, to biomes, and up to the level of the biosphere. This framework forms a panarchy and exhibits non-linear behaviors; this means that \"effect and cause are disproportionate, so that small changes to critical variables, such as the number of nitrogen fixers, can lead to disproportionate, perhaps irreversible, changes in the system properties.\":\\u200a14\\n\\nBiodiversity\\nBiodiversity (an abbreviation of \"biological diversity\") describes the diversity of life from genes to ecosystems and spans every level of biological organization. The term has several interpretations, and there are many ways to index, measure, characterize, and represent its complex organization. Biodiversity includes species diversity, ecosystem diversity, and genetic diversity and scientists are interested in the way that this diversity affects the complex ecological processes operating at and among these respective levels. Biodiversity plays an important role in ecosystem services which by definition maintain and improve human quality of life. Conservation priorities and management techniques require different approaches and considerations to address the full ecological scope of biodiversity. Natural capital that supports populations is critical for maintaining ecosystem services and species migration (e.g., riverine fish runs and avian insect control) has been implicated as one mechanism by which those service losses are experienced. An understanding of biodiversity has practical app', 'Categories': {'Category:All articles with unsourced statements': Category:All articles with unsourced statements (id: ??, ns: 14), 'Category:Articles containing Ancient Greek (to 1453)-language text': Category:Articles containing Ancient Greek (to 1453)-language text (id: ??, ns: 14), 'Category:Articles containing German-language text': Category:Articles containing German-language text (id: ??, ns: 14), 'Category:Articles with BNE identifiers': Category:Articles with BNE identifiers (id: ??, ns: 14), 'Category:Articles with BNF identifiers': Category:Articles with BNF identifiers (id: ??, ns: 14), 'Category:Articles with BNFdata identifiers': Category:Articles with BNFdata identifiers (id: ??, ns: 14), 'Category:Articles with EMU identifiers': Category:Articles with EMU identifiers (id: ??, ns: 14), 'Category:Articles with GND identifiers': Category:Articles with GND identifiers (id: ??, ns: 14), 'Category:Articles with HDS identifiers': Category:Articles with HDS identifiers (id: ??, ns: 14), 'Category:Articles with J9U identifiers': Category:Articles with J9U identifiers (id: ??, ns: 14), 'Category:Articles with LCCN identifiers': Category:Articles with LCCN identifiers (id: ??, ns: 14), 'Category:Articles with LNB identifiers': Category:Articles with LNB identifiers (id: ??, ns: 14), 'Category:Articles with NARA identifiers': Category:Articles with NARA identifiers (id: ??, ns: 14), 'Category:Articles with NDL identifiers': Category:Articles with NDL identifiers (id: ??, ns: 14), 'Category:Articles with NKC identifiers': Category:Articles with NKC identifiers (id: ??, ns: 14), 'Category:Articles with excerpts': Category:Articles with excerpts (id: ??, ns: 14), 'Category:Articles with short description': Category:Articles with short description (id: ??, ns: 14), 'Category:Articles with unsourced statements from December 2022': Category:Articles with unsourced statements from December 2022 (id: ??, ns: 14), 'Category:Biogeochemistry': Category:Biogeochemistry (id: ??, ns: 14), 'Category:CS1 German-language sources (de)': Category:CS1 German-language sources (de) (id: ??, ns: 14), 'Category:Ecology': Category:Ecology (id: ??, ns: 14), 'Category:Ecology terminology': Category:Ecology terminology (id: ??, ns: 14), 'Category:Emergence': Category:Emergence (id: ??, ns: 14), 'Category:Good articles': Category:Good articles (id: ??, ns: 14), 'Category:Pages using Sister project links with default search': Category:Pages using Sister project links with default search (id: ??, ns: 14), 'Category:Short description is different from Wikidata': Category:Short description is different from Wikidata (id: ??, ns: 14), 'Category:Use dmy dates from January 2020': Category:Use dmy dates from January 2020 (id: ??, ns: 14)}}}\n"
          ]
        }
      ]
    },
    {
      "cell_type": "markdown",
      "source": [
        "## **Processamento das páginas reunidas.**"
      ],
      "metadata": {
        "id": "Bk76vZeat5pz"
      }
    },
    {
      "cell_type": "markdown",
      "source": [
        "1) Categorização dos tópicos.\n",
        "\n",
        "*Verificar se a LLM é capaz de relacionar as páginas reunidas com seus tópicos de origem.*"
      ],
      "metadata": {
        "id": "b5iBU-DuVi4F"
      }
    },
    {
      "cell_type": "code",
      "source": [
        "# inicializando dicionário para armazenar as categorias dos textos encontrados\n",
        "Text_categories = {}\n",
        "\n",
        "for page in wikipedia_pages.keys():\n",
        "    title = wikipedia_pages[page]['Title']\n",
        "    text = wikipedia_pages[page]['Text']\n",
        "    # usando o LLM para classificar os textos extraidos com a API da Wikipedia\n",
        "    prompt = PromptTemplate.from_template(\"In wich textual category would you put the following passage? {text} (provide a concise response)\")\n",
        "    chain = prompt | llm_chat\n",
        "\n",
        "    text_category = chain.invoke({\"text\": text.strip()})\n",
        "\n",
        "    # armazenando resposta no dicionário\n",
        "    Text_categories[title] = text_category.strip()\n",
        "\n",
        "print(json.dumps(Text_categories, indent=4))"
      ],
      "metadata": {
        "colab": {
          "base_uri": "https://localhost:8080/"
        },
        "id": "bXLUx51TDNWh",
        "outputId": "8c5b4aee-580e-4154-ff0c-8c2fff726165"
      },
      "execution_count": null,
      "outputs": [
        {
          "output_type": "stream",
          "name": "stdout",
          "text": [
            "{\n",
            "    \"Informatics\": \"Since the passage contains definitions and uses of the term informatics in different domains such as Germany, United States, Canada, and France, it can be classified as belonging to the category of Lexicography. \\n\\nLexicography is the study of words and their use, including the investigation of their meanings and forms, their origins, their grammatical and semantic properties, and their relations to other words. It is typically used in the context of dictionaries and glossaries to provide precise and concise definitions for specific terms. \\n\\nWould you like me to extract key information from this passage?\",\n",
            "    \"Cuisine\": \"Since the provided text extensively discusses the origins, influences, and changes in cuisine throughout history, it would be appropriately categorized as a textual excerpt in the domain of Food and Beverage. \\n\\nThe text touches on several significant factors that have influenced cuisine over time. It highlights how elements like climate, trade, religious beliefs, and cultural interactions have played a crucial role in shaping different regional cuisines. \\n\\nFurthermore, it explores how culinary practices have evolved over time, incorporating innovations and fusions of various cooking styles, exemplified by trends like fusion cuisine, molecular cuisine, and new influences brought about by international trade and travel. \\n\\nOverall, the text offers a comprehensive overview of the rich history and dynamic nature of cuisine, making it an informative read for anyone interested in the subject of food and culinary traditions. \\n\\nWould you like help with anything else regarding textual categorization?\",\n",
            "    \"Auto racing\": \"Since this is a historical passage about automobile racing and mentions several events and facts related to that topic, the correct answer would be History. \\n\\nAutomobile racing has had a long and varied history, and the passage provides insights into its origins, major events, and significant venues. It also mentions several important dates and facts related to racing, such as the construction of the first successful gasoline-fueled automobiles, the establishment of the first racing competitions, and the creation of notable racing series such as NASCAR and Turismo Carretera. \\n\\nWould you like to know more about any of the topics mentioned in the passage?\",\n",
            "    \"Ecology\": \"The passage can be classified as an academic/scientific article discussing ecology and biodiversity. \\n\\nIt covers a wide range of topics, including the different levels of organization in ecology, from the micro-level to the planetary scale, the concept of hierarchy when studying ecosystems, and the meaning of biodiversity and how it is measured. \\n\\nWould you like me to extract any specific information from this passage?\"\n",
            "}\n"
          ]
        }
      ]
    },
    {
      "cell_type": "markdown",
      "source": [
        "2) Sumarização de textos.\n",
        "\n",
        "*Geração de resumos das páginas reunidas por meio de LLM.*"
      ],
      "metadata": {
        "id": "dNVpu8tbVr1a"
      }
    },
    {
      "cell_type": "code",
      "source": [
        "# inicializando dicionário para armazenar resumos gerados pelo LLM a partir dos textos encontrados pela API\n",
        "LLM_summary = {}\n",
        "\n",
        "for page in wikipedia_pages.keys():\n",
        "    title = wikipedia_pages[page]['Title']\n",
        "    text = wikipedia_pages[page]['Text']\n",
        "    # Utilizando o LLM para resumir os textos da wikipedia\n",
        "    prompt = PromptTemplate.from_template(\"Rewrite the following text from scratch in order to summarize it's contents (provide only the summarized text, and the text must have at least 200 words): {text}\")\n",
        "    chain = prompt | llm_chat\n",
        "\n",
        "    summarized_text = chain.invoke({\"text\": text.strip()})\n",
        "\n",
        "    # armazenando resposta no dicionário\n",
        "    LLM_summary[title] = summarized_text.strip()\n",
        "\n",
        "\n",
        "\n",
        "print(json.dumps(LLM_summary, indent=4))"
      ],
      "metadata": {
        "id": "5oJ7zIBdsU7I",
        "colab": {
          "base_uri": "https://localhost:8080/"
        },
        "outputId": "32f7afe7-16f7-40b6-b571-804e97c0eb52"
      },
      "execution_count": null,
      "outputs": [
        {
          "output_type": "stream",
          "name": "stderr",
          "text": [
            "WARNING:langchain_community.llms.cohere:Retrying langchain_community.llms.cohere.completion_with_retry.<locals>._completion_with_retry in 4.0 seconds as it raised CohereAPIError: You are using a Trial key, which is limited to 5 API calls / minute. You can continue to use the Trial key for free or upgrade to a Production key with higher rate limits at 'https://dashboard.cohere.ai/api-keys'. Contact us on 'https://discord.gg/XW44jPfYJu' or email us at support@cohere.com with any questions.\n"
          ]
        },
        {
          "output_type": "stream",
          "name": "stdout",
          "text": [
            "{\n",
            "    \"Informatics\": \"Informatics is a broad term that can encompass many different meanings depending on the country and context in which it is used. In Germany, informatics refers to modern computer science, while in the United States, it is often used in connection with data science, library science, or healthcare applications (health informatics). The term can also refer to operational units that provide network and computer services in Canada.\\n\\nThe word \\\"informatics\\\" was coined in 1956 by German informatician Karl Steinbuch and engineer Helmut Gr\\u00f6ttrup when they developed the Informatik-Anlage for Quelle, one of the earliest commercial applications of data processing. The term was further popularized by Steinbuch's publication of \\\"Informatik: Automatische Informationsverarbeitung\\\" the following year. Informatics is derived from the morphology of \\\"informat-ion\\\" and \\\"-ics,\\\" which is a scientific suffix. \\n\\nOver time, many different definitions of informatics have emerged, with most interpretations emphasizing information processing, algorithms, computation, information, algorithmic processes, computational processes, or computational systems as the essence of informatics.\\n\\nIn the United States, the use of the term informatics in the 1950s, particularly in the context of healthcare, preceded the establishment of formal education programs in the field, which did not emerge until the late 1960s. Health informatics, in particular, covers all aspects of generating, handling, communicating, storing, retrieving, managing, analyzing, discovering, and synthesizing data, information, and knowledge in healthcare.\\n\\nWould you like me to expand on any of the information provided?\",\n",
            "    \"Cuisine\": \"Cuisine is a term used to describe a particular style of cooking, and it has been adopted into the English language from the French word, which was originally derived from Latin. The cuisine of a region or country is influenced by several factors, including locally available ingredients, trade, religious food laws, and the area's climate. Religious food laws, such as those observed by Hindus, Sikhs, Buddhists, Christians, Muslims, and Jews, can lead to the development of specific cuisines. For example, Jewish cuisine and Israeli cuisine share similarities due to Judaism's dietary laws. \\n\\nThe climate of a region can determine what foods can be grown locally, and it can also impact food preservation methods such as smoking, curing, and pickling. Trade, especially the ancient spice trade, has introduced new ingredients and flavors to cuisines around the world.\\n\\nCuisines continually evolve and are influenced by innovation and cultural interaction. Examples of this include fusion cuisine, which combines elements from various culinary traditions, and molecular cuisine, a modern style of cooking that utilizes scientific innovations. International trade has also brought new ingredients and foodstuffs to existing cuisines, resulting in changes and developments over time.\\n\\nWould you like help with anything else involving summarizing information?\",\n",
            "    \"Auto racing\": \"The history of auto racing extends back to the mid-19th century, with the first prearranged match race of two self-powered road vehicles occurring in England in 1867. Since then, auto racing has grown in popularity, with several notable racing events and circuits emerging over the years. \\n\\nSome of the most significant events in the history of auto racing include:\\n\\n1. The Targa Florio: This was an open road endurance automobile race held in Sicily, Italy, which began in 1906 and was part of the World Sportscar Championship between 1955 and 1973. \\n\\n2. The 24 Hours of Le Mans: This is the oldest surviving sports car racing event, which began in 1923 and is run by the Automobile Club of the West (ACO). \\n\\n3. The Thanksgiving Day Chicago Times-Herald Race: This is considered the first American automobile race and helped to spark significant interest in the automobile in the US. \\n\\n4. Aspendale Racecourse in Australia: This was the first purpose-built motor racing circuit and opened in 1906. \\n\\n5. Brooklands in Surrey, England: This was the first purpose-built 'banked' motor racing venue and opened in 1907. \\n\\n6. Indianapolis Motor Speedway in Indiana, US: This is one of the oldest existing purpose-built automobile racing circuits and is still in use today. It has the largest capacity of any sports venue worldwide. \\n\\n7. The Formation of NASCAR: NASCAR, or the National Association for Stock Car Auto Racing, was founded in 1948 by Bill France Sr., and the first NASCAR \\\"Strictly Stock\\\" race was held in 1949. \\n\\nOther notable events in the history of auto racing include the popularity of the Turismo Carretera (TC) racing series in Argentina, which began in 1931 and features a Chevrolet-Ford rivalry, and the growth of international racing events organized by the French automobile club ACF, which connected Paris with other major European cities. \\n\\nOverall, the history of auto racing is characterized by its evolution from early prearranged matches to the establishment of purpose-built racing circuits and international racing organizations, which helped to popularize and normalize racing as a sport and entertainment activity. \\n\\nWould you like me to extract any specific information from this text?\",\n",
            "    \"Ecology\": \"Here is a rewritten version of the text you provided that summarizes its contents:\\n\\nThe study of ecology examines the intricate relationship between living organisms and their environment, spanning from the microscopic to the planetary scale. It involves analyzing ecosystems, which are dynamic communities of organisms and their physical surroundings. Ecosystems can vary in size, from small to vast, and can experience changes over long periods of time.\\n\\nEcology examines the organization of living organisms using a hierarchical framework, which ranges from genes to species, populations, communities, ecosystems, and beyond. This framework helps understand the complex relationships between different levels of biological organization. Within this hierarchy, population and ecosystem ecology are significant subdisciplines that focus on different aspects of ecological systems.\\n\\nBiodiversity, which encompasses the variety of life forms from genes to ecosystems, is an essential aspect of ecological systems. It includes the diversity of species, ecosystems, and genes and plays a crucial role in maintaining ecosystem services that benefit human well-being. Understanding biodiversity is vital for conservation efforts and managing ecological systems to ensure the preservation of natural capital and species migration patterns.\\n\\nThe study of ecology encompasses various principles, such as the idea that the birth rate of a population can be determined by adding up the individual births over a specific period. Additionally, the scale of ecological dynamics can operate independently within a specific context while also being influenced by broader scale factors.\\n\\nIn conclusion, ecology is a diverse field that examines the relationships between living organisms and their environment, using a hierarchical framework to understand different levels of organization and the concept of biodiversity. The study of ecology is crucial for preserving and understanding the complex web of life on Earth. \\n\\nWould you like me to rephrase this summary?\"\n",
            "}\n"
          ]
        }
      ]
    },
    {
      "cell_type": "markdown",
      "source": [
        "3) Similaridade entre textos.\n",
        "\n",
        "*Verificar se a LLM é capaz de escrever resumos de qualidade, fazemos isso comparando com os resumos oficiais das páginas que foram escritas por humanos. Se a LLM possui 80% de similaridade, consideramos um resumo de qualidade.*"
      ],
      "metadata": {
        "id": "5VWFX9wTV39b"
      }
    },
    {
      "cell_type": "code",
      "source": [
        "# inicializando dicionário para armazenar resumos mais completos baseados nos resumos gerados pelo LLM e naqueles presentes nas paginas da wikipedia\n",
        "better_LLM_summary = LLM_summary\n",
        "\n",
        "for page in wikipedia_pages.keys():\n",
        "    title = wikipedia_pages[page]['Title']\n",
        "    summary = wikipedia_pages[page]['Summary']\n",
        "    llm_summary = better_LLM_summary[title]\n",
        "    # Utilizando o LLM para comparar os resumos disponíveis e incrementar o resumo do LLM de acordo com o nível de semelhança com o resumo da wikipedia\n",
        "    prompt = PromptTemplate.from_template(\"Original summary:{text}\\n\\nNew summary:{llm_text}\\n\\nCheck the level of similarity between the original summary and the new summary, if the similarity is above 80% return to me the new summary with minor adjustments to include any information that is present in the original summary but not in the new summary, if the similarity is lower than 80% return me the new summary with major adjustments to include any information that is present in the original summary but not in the new summary (the revised summary must have at leats 200 words and your output must contain only the summary, no further commentary must be provided)\")\n",
        "    chain = prompt | llm_chat\n",
        "\n",
        "    better_summary = chain.invoke({\"text\":summary, \"llm_text\":llm_summary})\n",
        "\n",
        "    # armazenando resposta no dicionário\n",
        "    better_LLM_summary[title] = better_summary\n",
        "\n",
        "print(json.dumps(better_LLM_summary, indent=4))"
      ],
      "metadata": {
        "colab": {
          "base_uri": "https://localhost:8080/"
        },
        "id": "DZCLEc32_NdV",
        "outputId": "c0df0034-23d8-4d07-ac9f-3a7a606565b8"
      },
      "execution_count": null,
      "outputs": [
        {
          "output_type": "stream",
          "name": "stdout",
          "text": [
            "{\n",
            "    \"Informatics\": \" The provided new summary contains much of the same information as the original summary, but there are some differences in detail and arrangement. Below is a revised version of the new summary with major adjustments to include additional information where it differs from the original summary. \\n\\nInformatics is a broad term that encompasses multiple meanings in various contexts. While Germany interprets informatics as modern computer science, the United States often relates it to data science, library science, or health informatics in specific industries. The term can also refer to operational units providing network and computer services in Canada. Karl Steinbuch and Helmut Gr\\u00f6ttrup coined the term \\\"informatics\\\" in 1956, and Steinbuch further popularized it with the publication of \\\"Informatik: Automatische Informationsverarbeitung.\\\" \\n\\nOver time, various definitions of informatics have emerged, but most interpretations emphasize information processing, algorithms, computation, information, algorithmic processes, computational processes, or computational systems as the core of informatics. The use of the term in the 1950s, particularly in the healthcare industry, predated the establishment of educational programs in the field, which emerged only in the late 1960s. Health informatics specifically covers the management and analysis of data, information, and knowledge in healthcare. \\n\\nAre there any other changes I can make to this summary for you? \",\n",
            "    \"Cuisine\": \" Similarity: 92%\\n\\nHere is a revised version of the summary with some changes to increase the word count and include additional information:\\n\\nCuisine is a term used to describe a particular style of cooking that is associated with a specific culture or geographic region. Several factors influence the cuisine of a region, including locally available ingredients, trade, religious food laws, and climate. \\n\\nReligious food laws, observed by various religions such as Hinduism, Buddhism, Christianity, Islam, and Judaism, greatly influence cuisines worldwide. These laws can prohibit certain foods, such as pork or beef, and require others, like dairy or fish. This leads to the development of specific cuisines like Jewish cuisine, Indian cuisine, and Thai cuisine, which are unique to their respective religious traditions. \\n\\nThe climate of a region also plays a crucial role in determining its cuisine. For example, a tropical climate is ideal for growing spices, which leads to spicy cuisines in tropical areas. Additionally, a cold climate might limit the availability of fresh produce, resulting in the reliance on preserved foods like pickles and jams.\\n\\nTrade has introduced new ingredients and flavors to cuisines worldwide, especially in the ancient spice trade. Fusion cuisine, which combines elements from different culinary traditions, is an example of how cultures have influenced each other through trade and innovation. \\n\\nOverall, cuisines are dynamic and constantly evolving, reflecting the interaction between culture, geography, and history. \\n\\nWould you like more assistance with summarizing? \",\n",
            "    \"Auto racing\": \" The new summary shares only 61% of content similarity with the original summary, so I have included more information from the original summary into the new summary with some minor adjustments for continuity. \\n\\nAuto racing (also known as car racing, motor racing, or automobile racing) has existed since the invention of the automobile. Races of various sorts were organized, with the first recorded as early as 1867. Many of these earliest events were effectively reliability trials, aimed at proving these new machines were a practical mode of transport, but soon became an important way for automobile makers to demonstrate their machines. By the 1930s, specialist racing cars had developed. There are now numerous different categories, each with different rules and regulations.\\n\\nThe history of auto racing extends back to the mid-19th century, with the first prearranged match race of two self-powered road vehicles occurring in England in 1867. Since then, auto racing has grown in popularity, with several notable racing events and circuits emerging over the years.\\n\\nSome of the most significant events in the history of auto racing include:\\n\\n1. The Targa Florio: This was an open road endurance automobile race held in Sicily, Italy, which began in 1906 and was part of the World Sportscar Championship between 1955 and 1973. \\n\\n2. The 24 Hours of Le Mans: This is the oldest surviving sports car racing event, which began in 1923 and is run by the Automobile Club of the West (ACO). \\n\\n3. The Thanksgiving Day Chicago Times-Herald Race: This is considered the first American automobile race and helped to spark significant interest in the automobile in the US. \\n\\n4. Aspendale Racecourse in Australia: This was the first purpose-built motor racing circuit and opened in 1906. \\n\\n5. Brooklands in Surrey, England: This was the first purpose-built 'banked' motor racing venue and opened in 1907. \\n\\n6. Indianapolis Motor Speedway in Indiana, US: This is one of the oldest existing purpose-built automobile racing circuits and is still in use today. It has the largest capacity of any sports venue worldwide. The track at the Indianapolis Motor Speedway is also known as the Brickyard, due to the fact that the track surface was originally made of bricks. \\n\\n7. The Formation of NASCAR: NASCAR, or the National Association for Stock Car Auto Racing, was founded in 1948 by Bill France Sr., and the first NASCAR \\\"Strictly Stock\\\" race\",\n",
            "    \"Ecology\": \" Here is a rewritten version of the text you provided with a similarity of less than 80% to the original text:\\n\\nThe study of ecology examines the intricate relationships between living organisms and their environment, from the individual to the planetary level. It involves analyzing ecosystems, which are dynamic communities of organisms and their physical surroundings. Ecology considers the interactions between various living organisms and their environment, including the impact of human activities on ecosystems.\\n\\nEcology examines the organization of living organisms using a hierarchical framework, ranging from genes to species, populations, communities, ecosystems, and the biosphere. This framework helps understand the complex relationships between different levels of biological organization and their impact on the environment. Within this hierarchy, population and community ecology are significant subdisciplines that focus on the population dynamics and interactions within ecosystems.\\n\\nThe diversity of life forms, known as biodiversity, is a crucial aspect of ecological systems. It encompasses the variety of species, ecosystems, and genes and plays a vital role in maintaining ecosystem services that benefit both the natural environment and human well-being. Understanding biodiversity is essential for conservation efforts and managing ecological systems to ensure the preservation of natural capital and species migration patterns.\\n\\nThe study of ecology follows certain principles, such as the idea that the birth rate of a population can be determined by adding up the individual births over a specific period. Additionally, it recognizes the scale of ecological dynamics, which can operate within a specific context while also being influenced by broader scale factors.\\n\\nIn conclusion, ecology is a diverse field that examines the relationships between living organisms and their environment, using a hierarchical framework to understand different levels of organization and the concept of biodiversity. The study of ecology is crucial for preserving and understanding the complex web of life on Earth, and for informing decisions regarding the management and conservation of natural resources. \\n\\nWould you like me to rephrase this summary? \"\n",
            "}\n"
          ]
        }
      ]
    },
    {
      "cell_type": "markdown",
      "source": [
        "## **Geração de Quizz.**\n",
        "\n",
        "*Objetivo: Gerar um quizz com LLM para que o usuário possa ler os resumos selecionados e testar o conhecimento absorvido.*"
      ],
      "metadata": {
        "id": "e7Gn0Z7rusNr"
      }
    },
    {
      "cell_type": "markdown",
      "source": [
        "1) Geração do quizz pela LLM com perguntas e respostas."
      ],
      "metadata": {
        "id": "0N0Ng-YqV7jd"
      }
    },
    {
      "cell_type": "code",
      "source": [
        "# inicializando dicionário para armazenar perguntas e respostas sobre os temas de interesse do usuário\n",
        "quizzes = {}\n",
        "\n",
        "for interest, description in better_LLM_summary.items():\n",
        "    # Utilizando o LLM para gerar perguntas e respostas que possam entreter o usuário, baseado nos assuntos de seu interesse\n",
        "    prompt = PromptTemplate.from_template(\"Make a quizz based on the summary providade in the following text: {text} (your response must contain the answers to the quizz questions)\")\n",
        "    chain = prompt | llm_chat\n",
        "\n",
        "    quizz = chain.invoke({\"text\": description})\n",
        "\n",
        "    # armazenando resposta no dicionário\n",
        "    quizzes[interest] = quizz.strip()\n",
        "\n",
        "for key in quizzes.keys():\n",
        "  print(key)\n",
        "  print(f\"\\t{quizzes[key]}\")"
      ],
      "metadata": {
        "colab": {
          "base_uri": "https://localhost:8080/"
        },
        "id": "gUzYc_79InmZ",
        "outputId": "804cbe94-3950-4e4d-84b8-0b66663f7860"
      },
      "execution_count": null,
      "outputs": [
        {
          "output_type": "stream",
          "name": "stdout",
          "text": [
            "Informatics\n",
            "\tHere is a quiz based on the provided summary: \n",
            "\n",
            "1. In your own words, what is informatics?\n",
            "\n",
            "Answer: Informatics is a broad term with various interpretations in different contexts. In Germany, it refers to modern computer science, while in the United States, it often relates to data science, library science, or health informatics in specific industries. The term can also describe operational units that provide network and computer services in Canada. It is commonly associated with information processing, algorithms, computation, and computational systems. \n",
            "\n",
            "2. Who coined the term \"informatics\"?\n",
            "\n",
            "Answer: Karl Steinbuch and Helmut Gröttrup first used the term \"informatics\" in 1956. Steinbuch further popularized it with his publication of \"Informatik: Automatische Informationsverarbeitung.\" \n",
            "\n",
            "3. In what field can health informatics be found?\n",
            "\n",
            "Answer: Health informatics is a specific branch of informatics that pertains to the management and analysis of data, information, and knowledge within the healthcare industry. It emerged in the 1950s, preceding the establishment of educational programs in the field, which began to appear only in the late 1960s. \n",
            "\n",
            "4. What is the main emphasis of informatics, according to the summary?\n",
            "\n",
            "Answer: While the multiple definitions of informatics have evolved over time, most interpretations highlight information processing, algorithms, computation, information, algorithmic processes, computational processes, or computational systems as the core of informatics. \n",
            "\n",
            "Would you like to know more about any of these questions?\n",
            "Cuisine\n",
            "\tHere is a quiz based on the information provided in the summary:\n",
            "1. Which of the following is NOT a factor that influences the cuisine of a region, according to the summary?\n",
            "A. Locally available ingredients\n",
            "B. Trade\n",
            "C. Religious beliefs\n",
            "D. Lunar cycles\n",
            "\n",
            "2. Which religion follows dietary laws that prohibit the consumption of pork and beef?\n",
            "A. Hinduism\n",
            "B. Buddhism\n",
            "C. Christianity\n",
            "D. Islam\n",
            "\n",
            "3. Which cuisine is known for its use of spices due to the climate in which it is typically found?\n",
            "A. Indian\n",
            "B. Scandinavian\n",
            "C. Italian\n",
            "D. Thai\n",
            "\n",
            "4. Which of the following is an example of fusion cuisine that combines elements from different culinary traditions?\n",
            "A. Pizza\n",
            "B. Sushi\n",
            "C. Pad Thai\n",
            "D. Lasagna\n",
            "\n",
            "5. Which of the following is NOT a religion mentioned in the summary that may have influenced cuisine with religious food laws?\n",
            "A. Catholicism\n",
            "B. Judaism\n",
            "C. Hinduism\n",
            "D. Wicca\n",
            "\n",
            "Remember, the answers are based on the information provided in the summary. \n",
            "\n",
            "Would you like to generate another quiz to test your knowledge further on the subject of cuisine and cultural influences?\n",
            "Auto racing\n",
            "\tHere is a quiz based on the provided summary:\n",
            "1. When was the Targa Florio race held for the last time?\n",
            "- Answer: 1973\n",
            "\n",
            "2. Which is the oldest surviving sports car racing event?\n",
            "- Answer: 24 Hours of Le Mans\n",
            "\n",
            "3. In which country was the Aspendale Racecourse, the first purpose-built motor racing circuit, opened?\n",
            "- Answer: Australia\n",
            "\n",
            "4. When did the Indianapolis Motor Speedway open and for how long is it in use today?\n",
            "- Answer: 1907, it is still in use today\n",
            "\n",
            "5. Who founded NASCAR (National Association for Stock Car Auto Racing) and when?\n",
            "- Answer: Bill France Sr. in 1948\n",
            "\n",
            "6. In which important auto racing event did the first prearranged match race of two self-powered road vehicles occur?\n",
            "- Answer: England in 1867\n",
            "\n",
            "7. Which circuit is considered the first American automobile race and helped to spark interest in automobiles in the US?\n",
            "- Answer: Thanksgiving Day Chicago Times-Herald Race\n",
            "\n",
            "8. Where was the Thanksgiving Day Chicago Times-Herald Race held?\n",
            "- Answer: Chicago\n",
            "\n",
            "9. In which country can you find the Brooklands motor racing venue, which was the first purpose-built banked circuit?\n",
            "- Answer: England\n",
            "\n",
            "10. Why is the track at the Indianapolis Motor Speedway also known as the Brickyard?\n",
            "- Answer: The track surface was originally made of bricks.\n",
            "\n",
            "Did you know that auto racing is one of the most popular sports in the world, with millions of fans and multibillion-dollar revenues each year? surprisinly though, it wasn't always considered a sport, but rather a means to test the reliability of automobiles, and nowadays there are numerous categories and races to satisfy the demand of enthusiasts. \n",
            "\n",
            "Would you like me to generate another quiz about this topic or about something different?\n",
            "Ecology\n",
            "\tYes, please provide a quiz based on the revised summary. Here are some questions to include: \n",
            "\n",
            "1. Define ecology and state its primary focus. \n",
            "\n",
            "2. Explain the importance of analyzing ecosystems in the study of ecology. \n",
            "\n",
            "3. Discuss the significance of the hierarchical framework in understanding ecological relationships. \n",
            "\n",
            "4. What is biodiversity and why is it vital for ecological systems? \n",
            "\n",
            "5. Describe the principles or concepts that ecology follows, providing an example for one of them. \n",
            "\n",
            "6. Explain the importance of studying ecology for the preservation of life on Earth and its impact on environmental conservation. \n",
            "\n",
            "7. Name one factor that operates at a broader scale and influences ecological dynamics. \n",
            "\n",
            "These questions should help reinforce key points from the summary and allow for a basic assessment of the information conveyed. \n",
            "\n",
            "Would you like me to generate any other quizzes or assist with any other tasks involving text revision or summarization?\n"
          ]
        }
      ]
    },
    {
      "cell_type": "markdown",
      "source": [
        "2) Tradução do quizz para o portugês e correção gramatical quando necessário."
      ],
      "metadata": {
        "id": "oiRVMW2PvGiI"
      }
    },
    {
      "cell_type": "code",
      "source": [
        "# inicializando dicionário para armazenar perguntas e respostas sobre os temas de interesse do usuário, agora em português\n",
        "br_quizzes = {}\n",
        "\n",
        "for interest, quizz in quizzes.items():\n",
        "    # Utilizando o LLM para traduzir (para o português) o sistema de perguntas e respostas gerados\n",
        "    prompt = PromptTemplate.from_template(\"Translate the following text to portuguese: {text}\")\n",
        "    chain = prompt | llm_chat\n",
        "\n",
        "    # armazenando resposta no dicionário\n",
        "    br_quizz = chain.invoke({\"text\": quizz.strip()})\n",
        "\n",
        "    # Utilizando LLM para corrigir erros gramaticais que possam ter sido causados pela tradução\n",
        "    prompt = PromptTemplate.from_template(\"Corrija todos os erros gramaticais presentes neste texto: {text} (todo texto produzido deve estar em português brasileiro)\")\n",
        "    chain = prompt | llm_chat\n",
        "\n",
        "    correct_br_quizz = chain.invoke({\"text\": br_quizz.strip()})\n",
        "\n",
        "    # atualizando respostas no dicionário\n",
        "    br_quizzes[interest] = correct_br_quizz.strip()\n",
        "\n",
        "print(json.dumps(br_quizzes, indent=4))"
      ],
      "metadata": {
        "colab": {
          "base_uri": "https://localhost:8080/"
        },
        "id": "EZUxb3LDca9L",
        "outputId": "21e59102-d237-4bfb-d0b4-900191f12337"
      },
      "execution_count": null,
      "outputs": [
        {
          "output_type": "stream",
          "name": "stderr",
          "text": [
            "WARNING:langchain_community.llms.cohere:Retrying langchain_community.llms.cohere.completion_with_retry.<locals>._completion_with_retry in 4.0 seconds as it raised CohereAPIError: You are using a Trial key, which is limited to 5 API calls / minute. You can continue to use the Trial key for free or upgrade to a Production key with higher rate limits at 'https://dashboard.cohere.ai/api-keys'. Contact us on 'https://discord.gg/XW44jPfYJu' or email us at support@cohere.com with any questions.\n"
          ]
        },
        {
          "output_type": "stream",
          "name": "stdout",
          "text": [
            "{\n",
            "    \"Informatics\": \"Corre\\u00e7\\u00f5es aplicadas na sua vers\\u00e3o em portugu\\u00eas do artigo sobre inform\\u00e1tica:\\n\\n1. Por sua pr\\u00f3pria palavra, o que inform\\u00e1tica?\\n\\nResposta: A inform\\u00e1tica \\u00e9 um termo amplo que tem v\\u00e1rios significados dependendo do contexto. No Alemanha, ela se refere a computa\\u00e7\\u00e3o moderna, enquanto nos EUA, ela se refere apenas a tecnologia de dados, informa\\u00e7\\u00e3o bancada ou a inform\\u00e1tica de sa\\u00fade na ind\\u00fastria espec\\u00edfica. O termo pode tamb\\u00e9m ser usado para descrever empresas de servi\\u00e7os de computa\\u00e7\\u00e3o e rede em Canad\\u00e1. \\u00c9 muitas vezes associado a processamento de informa\\u00e7\\u00e3o, algoritmos, computa\\u00e7\\u00e3o e sistemas computacionais.\\n\\n2. Quem inventou a express\\u00e3o \\\"inform\\u00e1tica\\\"?\\n\\nResposta: O termo \\\"inform\\u00e1tica\\\" foi usado pela primeira vez em 1956, por Karl Steinbuch e Helmut Gr\\u00f6ttrup. Steinbuch foi mais popularizado com a publica\\u00e7\\u00e3o de seu livro intitulado \\\"Informatik: Automatische Informationsverarbeitung\\\".\\n\\n3. Em que setor podemos encontrar a inform\\u00e1tica de sa\\u00fade?\\n\\nResposta: A inform\\u00e1tica de sa\\u00fade \\u00e9 uma das \\u00e1reas espec\\u00edficas da inform\\u00e1tica que se relaciona com a gest\\u00e3o e an\\u00e1lise de dados, informa\\u00e7\\u00e3o e conhecimento no setor de sa\\u00fade. Emergiu no final do 1950, antes da instala\\u00e7\\u00e3o de programas de forma\\u00e7\\u00e3o na \\u00e1rea, que come\\u00e7aram a aparecer apenas no final dos anos 1960.\\n\\n4. O que \\u00e9 focalizado no resumo sobre a inform\\u00e1tica?\\n\\nResposta: Seja com as defini\\u00e7\\u00f5es m\\u00faltiplas que evolveram ao longo do tempo, a inform\\u00e1tica em geral se refere a tecnologias e process\",\n",
            "    \"Cuisine\": \"Corre\\u00e7\\u00e3o dos erros gramaticais no texto:\\n\\nAqu\\u00ed est\\u00e1 o quiz sobre a informa\\u00e7\\u00e3o do resumo:\\n\\n1. Qual destas op\\u00e7\\u00f5es n\\u00e3o \\u00e9 uma das fatores que influenciam comida regional?\\nA. Os ingredientes dispon\\u00edveis localmente\\nB. Com\\u00e9rcio\\nC. Religi\\u00f5es\\nD. Ciclos da Lua\\n\\n2. A religi\\u00e3o Hinduism seguir dietas leis que proibem a consumo de porco e boi?\\nA. sim\\nB. N\\u00e3o\\nC. Buddhism\\nD. Islam\\n\\n3. Qual a comida \\u00e9 conhecida pela uso de especiarias devido ao clima extremo onde ela costuma ser encontrada?\\nA. Indian\\nB. Scandinavian\\nC. Italiana\\nD. Thai\\n\\n4. Quais s\\u00e3o alguns exemplos de comida de fus\\u00e3o que combina elementos de diferentes tradi\\u00e7\\u00f5es culin\\u00e1rias?\\nA. Pizza\\nB. Sushi\\nC. Pad Thai\\nD. Lasagna\\n\\n5. Qual das seguintes n\\u00e3o \\u00e9 uma religi\\u00e3o mencionada no resumo que pode ter influenciado a culin\\u00e1ria com as leis de comida religiosa?\\nA. Cat\\u00f3lica\\nB. Judaism\\nC. Hinduism\\nD. Wicca\\n\\nLeia atentamente as respostas antes de come\\u00e7ar a responder ao quiz.\\n\\nQuer meger outro quiz sobre comida e influ\\u00eancias cultural?\\n\\nHere are the corrections to the grammatical errors in the text:\\n\\nHere is the quiz based on the provided summary:\\n\\n1. Which of the following is NOT a factor that influences local food, according to the summary?\\nA. Locally available ingredients\\nB. Commerce\\nC. Religions\\nD. Lunar cycles\\n\\n2. Does the religion Hinduism follow dietary laws that prohibit the consumption of pork and beef?\\nA. Yes\\nB. No\\nC. Buddhism\\nD. Islam\\n\\n3. Which food is known for using spices due to the extreme climate in which it is usually found?\\nA. Indian\\nB. Scandinavian\",\n",
            "    \"Auto racing\": \"Here is the text written in Portuguese:\\n\\nCorrija todos os erros gramaticais neste texto:\\n\\nAqu\\u00ed est\\u00e1 uma quize sobre um resumo fornecido:\\n\\n1. Quando foi realizada p\\u00fablicamente pela \\u00faltima vez a Corrida de Targa Florio?\\n- Resposta: 1973\\n\\n2. Qual \\u00e9 a corrida de autom\\u00f3veis de desporto mais antiga sobreviva ainda hoje?\\n- Resposta: 24 Horas de Le Mans\\n\\n3. Em qual pa\\u00eds foi abriu Aspendale Racecourse, a primeira circui\\u00e7\\u00e3o especialmente constru\\u00edda para corrida de autom\\u00f3veis?\\n- Resposta: Austr\\u00e1lia\\n\\n4. Quando foi abriu o Indianapolis Motor Speedway e at\\u00e9 quando \\u00e9 usado hoje em dia?\\n- Resposta: 1907, \\u00e9 usado at\\u00e9 hoje\\n\\n5. Quem fundou a NASCAR (National Association for Stock Car Auto Racing) e quando foi feita isso?\\n- Resposta: Bill France Sr. em 1948\\n\\n6. Em que corrida importante de autom\\u00f3veis o primeiro encarnamento de um campeonato predeterminado de dois ve\\u00edculos rodovi\\u00e1rios a combust\\u00e3o em si teve lugar?\\n- Resposta: Inglaterra em 1867\\n\\n7. Qual circui\\u00e7\\u00e3o \\u00e9 considerada a primeira corrida autom\\u00f3vel americana e a ajuda para iniciar o interesse no mercado de autom\\u00f3veis nos EUA?\\n- Resposta: Thanksgiving Day Chicago Times-Herald Race\\n\\n8. O que local foi realizada a corrida Thanksgiving Day Chicago Times-Herald Race?\\n- Resposta: Chicago\\n\\n9. Em qual pa\\u00eds pode-se encontrar o local de corridas de autom\\u00f3veis Brooklands, que foi a primeira circui\\u00e7\\u00e3o predeterminada em uma pista em uma pista em uma pista em banho em uma pista?\\n- Resposta: Inglaterra\\n\\n10.\",\n",
            "    \"Ecology\": \"Sure, here is a corrected version of the text in Portuguese:\\n\\nSim, possamos-se oferecer um quiz sobre o resumo revisto a seguir:\\n\\n1. Defina a ecologia e declara seu foco principal:\\n\\nDefina \\\"ecologia\\\" e fale do seu principal objetivo ou foco.\\n\\n2. Explique a import\\u00e2ncia de analisar ecosistemas na estudo da ecologia:\\n\\nExpor a import\\u00e2ncia de analisar ecosistemas na forma\\u00e7\\u00e3o de ecologia. Comentem sobre as vantagens de ter conhecimento sobre as ecosistemas para entender a ecologia.\\n\\n3. Discute a signific\\u00e2ncia do esquema hierarquico na compreens\\u00e3o de relacionamentos ecol\\u00f3gicos:\\n\\nFale sobre a import\\u00e2ncia do esquema hierarquico na compreens\\u00e3o de relacionamentos ecol\\u00f3gicos. Comenta sobre as vantagens do esquema hierarquico na compreens\\u00e3o de relacionamentos ecosol\\u00e9gicos.\\n\\n4. Defina a biodiversidade e fale do seu impacto vital para sistemas ecol\\u00f3gicos:\\n\\nDefina \\\"biodiversidade\\\" e fale sobre seu impacto sobre as sistemas ecol\\u00f3gicos.\\n\\n5. Describa as princ\\u00edpios ou conceitos que se baseiam na ecologia, fornecendo um exemplo para um deles:\\n\\nDescreva alguns princ\\u00edpios ou conceitos b\\u00e1sicos sobre a ecologia, com um exemplo para cada um deles.\\n\\n6. Explique a import\\u00e2ncia da ecologia para a preserva\\u00e7\\u00e3o da vida no Planeta Earth e seu impacto no conhecimento do meio ambiente:\\n\\nExplique a import\\u00e2ncia da ecologia para a preserva\\u00e7\\u00e3o da vida no Planeta Earth, como a ecologia contribui para a conserva\\u00e7\\u00e3o da biodiversidade e a prote\\u00e7\\u00e3o do meio ambiente.\\n\\n7. Numera um factorio que opera no escala mais\"\n",
            "}\n"
          ]
        }
      ]
    },
    {
      "cell_type": "markdown",
      "source": [
        "3) Traduzindo os resumos selecionados para português, corrigindo a gramática quando necessário.\n",
        "\n",
        "*Assim os usuários podem tanto estudar quanto realizar o quizz em seu idioma de preferência.*"
      ],
      "metadata": {
        "id": "gzGSQwzDvMX7"
      }
    },
    {
      "cell_type": "code",
      "source": [
        "# inicializando dicionário para armazenar os resumos gerados anteriormente pela LLM, agora em português\n",
        "br_summary = {}\n",
        "for interest, summary in better_LLM_summary.items():\n",
        "    # Utilizando o LLM para traduzir (para o português) os resumos dos temas de interesse do usuário\n",
        "    prompt = PromptTemplate.from_template(\"Translate the following text to portuguese: {text}\")\n",
        "    chain = prompt | llm_chat\n",
        "\n",
        "    translated_summary = chain.invoke({\"text\": summary.strip()})\n",
        "\n",
        "    # armazenando resposta no dicionário\n",
        "    br_summary[interest] = translated_summary.strip()\n",
        "\n",
        "print(json.dumps(br_summary, indent=4))"
      ],
      "metadata": {
        "colab": {
          "base_uri": "https://localhost:8080/"
        },
        "id": "tE9C6xQ3kQX5",
        "outputId": "7ac60b43-8406-40d6-f454-c6a2cc523abd"
      },
      "execution_count": null,
      "outputs": [
        {
          "output_type": "stream",
          "name": "stdout",
          "text": [
            "{\n",
            "    \"Informatics\": \"O novo r\\u00e9sum\\u00e9 fornecido cont\\u00e9m muito da mesma informa\\u00e7\\u00e3o do resumo original, mas h\\u00e1 alguns diferen\\u00e7as de detalhe e arranjo. Veja abaixo uma vers\\u00e3o revisada do resumo novo com altera\\u00e7\\u00f5es principais para incluir informa\\u00e7\\u00f5es adicionais quando diferir do resumo original. \\n\\nInform\\u00e1tica \\u00e9 um termo amplo que envolve v\\u00e1rias defini\\u00e7\\u00f5es em contextos diferentes. Enquanto a Alemanha interpreta inform\\u00e1tica como ci\\u00eancia de computa\\u00e7\\u00e3o moderna, os EUA frequentemente se relaciona com ci\\u00eancia de dados, ci\\u00eancia de biblioteca ou inform\\u00e1tica de sa\\u00fade, em ind\\u00fastria espec\\u00edfica. O termo pode tamb\\u00e9m se referir a unidades operacionais que fornecem servi\\u00e7os de rede e computa\\u00e7\\u00e3o em Canad\\u00e1. Karl Steinbuch e Helmut Gr\\u00f6ttrup colecseram o termo \\\"inform\\u00e1tica\\\" em 1956, e Steinbuch popularizou a palavra mais adiante com a publica\\u00e7\\u00e3o de \\\"Informatik: Automatische Informationsverarbeitung.\\\" \\n\\nCom o tempo, v\\u00e1rias defini\\u00e7\\u00f5es do inform\\u00e1tica tiveram surgir, mas a maioria de interpreta\\u00e7\\u00f5es destaca a processamento de informa\\u00e7\\u00e3o, algoritmos, computa\\u00e7\\u00e3o, informa\\u00e7\\u00e3o, processos algor\\u00edticos, processos computacionais ou sistemas computacionais como o nucleo principal da inform\\u00e1tica. O uso do termo no per\\u00edodo de 1950, em particular no setor de sa\\u00fade, antecedeu ao estabelecimento de programas de forma\\u00e7\\u00e3o no campo, o que surgiu apenas no final dos anos 1960. A inform\\u00e1tica espec\\u00edfica para o manejamento e an\\u00e1lise de dados, informa\\u00e7\\u00e3o e conhecimento na sa\\u00fade. \\n\\nExiste algum outro que eu possa fazer para este resumo? \\n\\nWould you like me to make any other changes to this summary?\",\n",
            "    \"Cuisine\": \"Similaridade: 92%\\n\\nAqu\\u00ed est\\u00e1 uma vers\\u00e3o revisada do resumo, com alguns altera\\u00e7\\u00f5es e informa\\u00e7\\u00f5es adicionais:\\n\\nA palavra \\\"cuisine\\\" se refere a uma estilo espec\\u00edfico de cozinha associado a uma determinada cultura ou regi\\u00e3o geogr\\u00e1fica. V\\u00e1rias fontes influenciam a culin\\u00e1ria de uma regi\\u00e3o, incluindo ingredientes locais, com\\u00e9rcio, leis da alimenta\\u00e7\\u00e3o religiosa e clima.\\n\\nAs leis da alimenta\\u00e7\\u00e3o religiosa, adotadas por v\\u00e1rias religi\\u00f5es como a Hinduism, o Buddhism, a Cristianidade, o Islam e a Juda\\u00edsmo, t\\u00eam um impacto significativo sobre as culin\\u00e1rias em todo o mundo. Estas leis p\\u00f5em restri\\u00e7\\u00f5es em alguns alimentos, como o porco ou a carne de boi, e pro\\u00edbem outros, como leite ou peixe. Isso resulta na cria\\u00e7\\u00e3o de especificos m\\u00e9todos de cozinha como a cozinha judaica, a cozinha indiana e a cozinha thai, que s\\u00e3o distintos das suas respectivas tradi\\u00e7\\u00f5es religiosas.\\n\\nO clima \\u00e9 tamb\\u00e9m fundamental no desenvolvimento da culin\\u00e1ria de uma regi\\u00e3o. Para exemplo, um clima tropical \\u00e9 ideal para a crescimento de especiarias, o que leva a cozinhas picantes em \\u00e1reas tropicales. Al\\u00e9m disso, um clima frio pode limitar a disponibilidade de produtos frescos, resultando na depend\\u00eancia em alimentos conservados, como pickles e jams.\\n\\nO com\\u00e9rcio introduzir novos ingredientes e sabores em todo o mundo, especialmente na antiga troca de especiarias. A cozinha fusion, que combina elementos de diferentes tradi\\u00e7\\u00f5es culin\\u00e1rias, \\u00e9 uma das maneiras que as culturas se influenc\",\n",
            "    \"Auto racing\": \"O novo resumo apresenta apenas 61% de similaridade de conte\\u00fado com o resumo original, sendo que por isso, foram inclu\\u00eddos mais informa\\u00e7\\u00f5es do resumo original na nova resumo, com alguns ajustes minor\\u00edsticos para a continuidade.\\n\\nA corrida de autom\\u00f3veis (tamb\\u00e9m conhecida como corrida de carros, corrida de motores ou corrida autom\\u00f3vel) tem existido desde a invent\\u00e3o do autom\\u00f3vel. As primeiras corridas foram organizadas de diversas formas, sendo a primeira registrada ainda em 1867. Muitas destas primeiras manifesta\\u00e7\\u00f5es foram realizadas como testes de confiabilidade, visando a prova de que estes novos ve\\u00edculos eram uma modalidade de transporte pr\\u00e1tica, mas rapidamente se tornaram uma importante forma para os fabricantes de autom\\u00f3veis para demonstrar suas m\\u00e1quinas. Pelo 1930, existiram especialistas em carros de corrida. Hoje, existem muitos diferentes categorias, cada uma com regras e normas espec\\u00edficas.\\n\\nA hist\\u00f3ria da corrida de autom\\u00f3veis remonta ao meio do s\\u00e9culo XIX, com a primeira corrida pr\\u00e9-arrumada de dois ve\\u00edculos de rodas sujeitos a propuls\\u00e3o por si pr\\u00f3prios realizada na Inglaterra em 1867. Desde ent\\u00e3o, a corrida de autom\\u00f3veis se popularizou, tendo surgido em diversos eventos not\\u00e1veis de corrida e circuitos ao longo dos anos.\\n\\nAlgumas das mais significativas ocasi\\u00f5es na hist\\u00f3ria da corrida de autom\\u00f3veis incluem:\\n\\n1. A Targa Florio: Este foi um campeonato de endurance autom\\u00f3vel realizado em Sic\\u00edlia, It\\u00e1lia, que come\\u00e7ou em 1906 e foi integrado ao World Sportscar Championship entre 1955 e 1973. \\n\\n2. Os 24\",\n",
            "    \"Ecology\": \"Estudo de ecologia examina as complexas rela\\u00e7\\u00f5es entre organismos vivos e seu ambiente, desde o n\\u00edvel individual at\\u00e9 o n\\u00edvel plan\\u00e9tico. Involve somente a an\\u00e1lise de ecosistemas, que s\\u00e3o comunidades din\\u00e2micas de organismos e seus ambientes f\\u00edsicos. A ecologia considera as intera\\u00e7\\u00f5es entre v\\u00e1rias organiza\\u00e7\\u00f5es de vida e seu ambiente, incluindo o impacto das atividades humanas sobre os ecosistemas.\\n\\nO estudo de ecologia examina a organiza\\u00e7\\u00e3o de organismos vivos usando um framework hierarquico, desde g\\u00eanes at\\u00e9 as esp\\u00e9cies, popula\\u00e7\\u00f5es, comunidades, ecosistemas e bi\\u00f3sfera. Este framework \\u00e9 fundamental para compreender as complexas rela\\u00e7\\u00f5es entre diferentes n\\u00edveis de organiza\\u00e7\\u00e3o biol\\u00f3gica e seu impacto no ambiente. Nesse contexto, as subdisciplinas de popula\\u00e7\\u00e3o e comunidade ecologia s\\u00e3o muito importantes, enquanto seus foco \\u00e9 as din\\u00e2micas de popula\\u00e7\\u00e3o e as intera\\u00e7\\u00f5es em ecosystems.\\n\\nA diversidade de formas de vida, conhecida como biodiversidade, \\u00e9 uma importante facetada de sistemas ecologicos. Ela encompreende a varia\\u00e7\\u00e3o de esp\\u00e9cies, ecosistemas e g\\u00eanes e contribui fundamentalmente a manter os servi\\u00e7os de ecossistemas que beneficam tanto o ambiente natural como a sa\\u00fade humana. Entender a biodiversidade \\u00e9 fundamental para os esfor\\u00e7os de conserva\\u00e7\\u00e3o e a gest\\u00e3o de sistemas ecologicos para garantir a preserva\\u00e7\\u00e3o do capital natural e as regi\\u00f5es de migra\\u00e7\\u00e3o de esp\\u00e9cies.\\n\\nO estudo de ecologia se baseia em princ\\u00edpios definidos, como por exemplo, a id\\u00e9ia de que a taxa de nascimento de uma popula\\u00e7\\u00e3o pode ser determina por adicionar as individuais nasces de maneira espec\"\n",
            "}\n"
          ]
        }
      ]
    },
    {
      "cell_type": "markdown",
      "source": [
        "## **Recomendações para o usuário.**"
      ],
      "metadata": {
        "id": "TEA-eDdGvgql"
      }
    },
    {
      "cell_type": "markdown",
      "source": [
        "1) Gerar tópicos relacionados ao interesse do usuário em que ele talvez também tenha interesse."
      ],
      "metadata": {
        "id": "4UMbTSFNvnRK"
      }
    },
    {
      "cell_type": "code",
      "source": [
        "# Utilizando o LLM para gerar novos tópicos que possam ser de interesse do usuário para gerar recomendações\n",
        "prompt = PromptTemplate.from_template(\"Generate 5 new topics that might be of the user's interest based on the following subjects known to be appreciated by the user: {text}\\n For each recommended topic generate 5 synonyms for it and provide the response on a format of a json dictionary of lists (the generated topics must differ from the ones already provided in '{text}')\")\n",
        "chain = prompt | llm_chat\n",
        "\n",
        "recommendations = chain.invoke({\"text\": interests.strip()})\n",
        "\n",
        "print(recommendations)\n",
        "\n",
        "# extraindo json presente na resposta disponibilizada pelo LLM\n",
        "recommendations_dict = json.loads(recommendations[recommendations.find(\"{\"):recommendations.rfind(\"}\")+1].strip())\n",
        "recommendations_dict = {item['topic']: item['synonyms'] for item in recommendations_dict['new_topics']}"
      ],
      "metadata": {
        "colab": {
          "base_uri": "https://localhost:8080/"
        },
        "id": "he_qv0MZm-AE",
        "outputId": "e830b5e2-3297-45ef-f3f8-500cce0c76b8"
      },
      "execution_count": null,
      "outputs": [
        {
          "output_type": "stream",
          "name": "stdout",
          "text": [
            " Sure, here are five new topics of interest for you based on the description provided, presented as a JSON dictionary of lists:\n",
            "\n",
            "```json\n",
            "{\n",
            "  \"new_topics\": [\n",
            "    {\n",
            "      \"topic\": \"Engineering\",\n",
            "      \"synonyms\": [\"Designing\", \"Building\", \"Structuring\", \"Ingenuity\", \"Innovation\"]\n",
            "    },\n",
            "    {\n",
            "      \"topic\": \"Automobile industry\",\n",
            "      \"synonyms\": [\"Cars\", \"Motorcycles\", \"Transportation\", \"Vehicles\", \"Engineering\"]\n",
            "    },\n",
            "    {\n",
            "      \"topic\": \"Technology\",\n",
            "      \"synonyms\": [\"IT\", \"Computers\", \"Software\", \"Hardware\", \"Innovations\"]\n",
            "    },\n",
            "    {\n",
            "      \"topic\": \"Mathematics\",\n",
            "      \"synonyms\": [\"Calculus\", \"Algebra\", \"Statistics\", \"Geometry\", \"Logic\"]\n",
            "    },\n",
            "    {\n",
            "      \"topic\": \"Art\",\n",
            "      \"synonyms\": [\"Painting\", \"Drawing\", \"Music\", \"Dancing\", \"Photography\"]\n",
            "    }\n",
            "  ]\n",
            "}\n",
            "```\n",
            "\n",
            "Do these topics match your interests? If not, I can generate other suggestions for you. Simply let me know if you would like me to generate more topics or if you are satisfied with this set of recommendations. \n",
            "\n",
            "If you would like me to generate topics for any specific interests you have in mind, please provide the details, and I will do my best to generate suitable recommendations. \n",
            "\n",
            "Would you like me to assist you with anything else pertaining to topic generation or anything else? \n"
          ]
        }
      ]
    },
    {
      "cell_type": "markdown",
      "source": [
        "2) Pesquisar as páginas da Wikipedia sobre os tópicos recomendados."
      ],
      "metadata": {
        "id": "-EgMPA1YvyOV"
      }
    },
    {
      "cell_type": "code",
      "source": [
        "# Pesquisando os items recomendados com o auxilio da API da Wikipedia\n",
        "\n",
        "# inicializando dicionário para armazenar dados sobre as recomendações de tópicos para o usuário\n",
        "recommended_wikipedia_pages = {key : {} for key in recommendations_dict.keys()}\n",
        "\n",
        "for recommendation in recommendations_dict.keys():\n",
        "    for recommendation_synonym in recommendations_dict[recommendation]:\n",
        "        recommended_page = wiki_wiki.page(recommendation_synonym)\n",
        "        if recommended_page.exists():\n",
        "            recommended_wikipedia_pages[recommendation]['Title'] = recommended_page.title\n",
        "            recommended_wikipedia_pages[recommendation]['URL'] = recommended_page.fullurl\n",
        "            recommended_wikipedia_pages[recommendation]['Summary'] = recommended_page.summary\n",
        "            break\n",
        "\n",
        "print(recommended_wikipedia_pages)"
      ],
      "metadata": {
        "colab": {
          "base_uri": "https://localhost:8080/"
        },
        "id": "sqYwFHjMxg5z",
        "outputId": "ab6dc26c-bef7-4295-f866-a2e3dff91ead"
      },
      "execution_count": null,
      "outputs": [
        {
          "output_type": "stream",
          "name": "stdout",
          "text": [
            "{'Engineering': {'Title': 'Design', 'URL': 'https://en.wikipedia.org/wiki/Design', 'Summary': 'A design is a concept of either an object, a process, or a system that is specific and, in most cases, detailed. Design refers to something that is or has been intentionally created by a thinking agent, though it is sometimes used to refer to the nature of something. The verb to design expresses the process of developing a design. In some cases, the direct construction of an object without an explicit prior plan may also be considered to be a design (such as in some artwork and craftwork). The design usually has to satisfy certain goals and constraints; may take into account aesthetic, functional, economic, or socio-political considerations; and is expected to interact with a certain environment. Typical examples of designs include architectural and engineering drawings, circuit diagrams, sewing patterns and less tangible artefacts such as business process models.'}, 'Automobile industry': {'Title': 'Car', 'URL': 'https://en.wikipedia.org/wiki/Car', 'Summary': \"A car, or an automobile, is a motor vehicle with wheels. Most definitions of cars state that they run primarily on roads, seat one to eight people, have four wheels, and mainly transport people, not cargo. French inventor Nicolas-Joseph Cugnot built the first steam-powered road vehicle in 1769, while French-born Swiss inventor François Isaac de Rivaz designed and constructed the first internal combustion-powered automobile in 1808.\\nThe modern car—a practical, marketable automobile for everyday use—was invented in 1886, when German inventor Carl Benz patented his Benz Patent-Motorwagen. Commercial cars became widely available during the 20th century. One of the first cars affordable by the masses was the 1908 Model T, an American car manufactured by the Ford Motor Company. Cars were rapidly adopted in the US, where they replaced horse-drawn carriages. In Europe and other parts of the world, demand for automobiles did not increase until after World War II. The car is considered an essential part of the developed economy.\\nCars have controls for driving, parking, passenger comfort, and a variety of lamps. Over the decades, additional features and controls have been added to vehicles, making them progressively more complex. These include rear-reversing cameras, air conditioning, navigation systems, and in-car entertainment. Most cars in use in the early 2020s are propelled by an internal combustion engine, fueled by the combustion of fossil fuels. Electric cars, which were invented early in the history of the car, became commercially available in the 2000s and are predicted to cost less to buy than petrol-driven cars before 2025. The transition from fossil fuel-powered cars to electric cars features prominently in most climate change mitigation scenarios, such as Project Drawdown's 100 actionable solutions for climate change.There are costs and benefits to car use. The costs to the individual include acquiring the vehicle, interest payments (if the car is financed), repairs and maintenance, fuel, depreciation, driving time, parking fees, taxes, and insurance. The costs to society include maintaining roads, land use, road congestion, air pollution, noise pollution, public health, and disposing of the vehicle at the end of its life. Traffic collisions are the largest cause of injury-related deaths worldwide. Personal benefits include on-demand transportation, mobility, independence, and convenience. Societal benefits include economic benefits, such as job and wealth creation from the automotive industry, transportation provision, societal well-being from leisure and travel opportunities, and revenue generation from taxes. People's ability to move flexibly from place to place has far-reaching implications for the nature of societies. There are around one billion cars in use worldwide. Car usage is increasing rapidly, especially in China, India, and other newly industrialized countries.\"}, 'Technology': {'Title': 'Information technology', 'URL': 'https://en.wikipedia.org/wiki/Information_technology', 'Summary': 'Information technology (IT) is a set of related fields that encompass computer systems, software, programming languages and data and information processing and storage. IT forms part of information and communications technology (ICT). An information technology system (IT system) is generally an information system, a communications system, or, more specifically speaking, a computer system — including all hardware, software, and peripheral equipment — operated by a limited group of IT users, and an IT project usually refers to the commissioning and implementation of an IT system.Although humans have been storing, retrieving, manipulating, and communicating information since the earliest writing systems were developed, the term information technology in its modern sense first appeared in a 1958 article published in the Harvard Business Review; authors Harold J. Leavitt and Thomas L. Whisler commented that \"the new technology does not yet have a single established name. We shall call it information technology (IT).\" Their definition consists of three categories: techniques for processing, the application of statistical and mathematical methods to decision-making, and the simulation of higher-order thinking through computer programs.The term is commonly used as a synonym for computers and computer networks, but it also encompasses other information distribution technologies such as television and telephones. Several products or services within an economy are associated with information technology, including computer hardware, software, electronics, semiconductors, internet, telecom equipment, and e-commerce.Based on the storage and processing technologies employed, it is possible to distinguish four distinct phases of IT development: pre-mechanical (3000 BC — 1450 AD), mechanical (1450 — 1840), electromechanical (1840 — 1940), and electronic (1940 to present).Information technology is also a branch of computer science, which can be defined as the overall study of procedure, structure, and the processing of various types of data.  As this field continues to evolve across the world, its overall priority and importance has also grown, which is where we begin to see the introduction of computer science-related courses in K-12 education.'}, 'Mathematics': {'Title': 'Calculus', 'URL': 'https://en.wikipedia.org/wiki/Calculus', 'Summary': 'Calculus is the mathematical study of continuous change, in the same way that geometry is the study of shape, and algebra is the study of generalizations of arithmetic operations.\\nOriginally called infinitesimal calculus or \"the calculus of infinitesimals\", it has two major branches, differential calculus and integral calculus. The former concerns instantaneous rates of change, and the slopes of curves, while the latter concerns accumulation of quantities, and areas under or between curves. These two branches are related to each other by the fundamental theorem of calculus, and they make use of the fundamental notions of convergence of infinite sequences and infinite series to a well-defined limit.Infinitesimal calculus was developed independently in the late 17th century by Isaac Newton and Gottfried Wilhelm Leibniz. Later work, including codifying the idea of limits, put these developments on a more solid conceptual footing. Today, calculus has widespread uses in science, engineering, and social science.'}, 'Art': {'Title': 'Painting', 'URL': 'https://en.wikipedia.org/wiki/Painting', 'Summary': 'Painting is the practice of applying paint, pigment, color or other medium to a solid surface (called the \"matrix\" or \"support\"). The medium is commonly applied to the base with a brush, but other implements, such as knives, sponges, and airbrushes, can be used.\\nIn art, the term \"painting\" describes both the act and the result of the action (the final work is called \"a painting\"). The support for paintings includes such surfaces as walls, paper, canvas, wood, glass, lacquer, pottery, leaf, copper and concrete, and the painting may incorporate multiple other materials, including sand, clay, paper, plaster, gold leaf, and even whole objects.\\nPainting is an important form of visual art, bringing in elements such as drawing, composition, gesture, narration, and abstraction. Paintings can be naturalistic and representational (as in still life and landscape painting), photographic, abstract, narrative, symbolistic (as in Symbolist art), emotive (as in Expressionism) or political in nature (as in Artivism).\\nA portion of the history of painting in both Eastern and Western art is dominated by religious art. Examples of this kind of painting range from artwork depicting mythological figures on pottery, to Biblical scenes on the Sistine Chapel ceiling, to scenes from the life of Buddha (or other images of Eastern religious origin).'}}\n"
          ]
        }
      ]
    },
    {
      "cell_type": "markdown",
      "source": [
        "3) Geração de entidades nomeadas que possam ser de interesse do usuário."
      ],
      "metadata": {
        "id": "4pVGkUkhv5vj"
      }
    },
    {
      "cell_type": "code",
      "source": [
        "# Utilizando o LLM para gerar entidades nomeadas que possam ser de interesse do usuário para gerar recomendações\n",
        "prompt = PromptTemplate.from_template(\"Generate 10 nominated entities that might be of the user's interest based on the following subjects known to be appreciated by the user: {text}\\nProvide the response concisely on a format of a json dictionary with the related interest and its named entities\")\n",
        "chain = prompt | llm_chat\n",
        "\n",
        "entities_recommendations = chain.invoke({\"text\": interests.strip()})\n",
        "\n",
        "print(entities_recommendations)\n",
        "\n",
        "# extraindo json presente na resposta disponibilizada pelo LLM\n",
        "recommended_entities_dict = dict_extractor(entities_recommendations)"
      ],
      "metadata": {
        "colab": {
          "base_uri": "https://localhost:8080/"
        },
        "id": "QzpiKYzs5bpS",
        "outputId": "1b532570-0a89-4f59-8f15-75aa1e923f99"
      },
      "execution_count": null,
      "outputs": [
        {
          "output_type": "stream",
          "name": "stdout",
          "text": [
            " Sure! Here are ten entities that have been nominated based on the interests you've described! The format is a JSON, with the subject areas as keys, and the nominated entities or organizations as values:\n",
            "\n",
            "```json\n",
            "{\n",
            "  \"Computing science\": [\n",
            "    \"Association for Computing Machinery (ACM)\", \"IEEE Computer Society\"\n",
            "    ],\n",
            "  \"Cuisine\": [\n",
            "    \"Jamie Oliver\", \"Gordon Ramsay\", \"Julia Child\", \"Bobby Flay\", \"Rachel Ray\", \"The Food Network\"\n",
            "    ],\n",
            "  \"Automobiles\": [\n",
            "    \"Ferrari\", \"Mercedes-Benz\", \"Tesla\", \"NASCAR\", \"IndyCar\"\n",
            "    ],\n",
            "  \"Environmental Awareness\": [\n",
            "    \"David Attenborough\", \"National Geographic Society\", \"The World Wildlife Fund (WWF)\", \"Nature Conservancy\"\n",
            "    ]\n",
            "}\n",
            "```\n",
            "\n",
            "Do you want me to generate more entities based on these interests? I can provide more specific entities if you let me know about your particular region or country of interest! \n",
            "\n",
            "Would you like me to narrow down the list or generate entities for a particular region? \n"
          ]
        }
      ]
    },
    {
      "cell_type": "markdown",
      "source": [
        "4) Procurar as páginas das entidades nomeadas recomendadas."
      ],
      "metadata": {
        "id": "H93Dw9Ktv_M_"
      }
    },
    {
      "cell_type": "code",
      "source": [
        "# Pesquisando entidades nomeadas recomendadas com o auxilio da API da Wikipedia\n",
        "\n",
        "# inicializando dicionário para armazenar dados sobre as recomendações de entidades nomeadas para o usuário\n",
        "recommended_entities_wikipedia_pages = {}\n",
        "\n",
        "for interest in recommended_entities_dict.keys():\n",
        "    for entity in recommended_entities_dict[interest]:\n",
        "        recommended_entity_page = wiki_wiki.page(entity)\n",
        "        if recommended_entity_page.exists():\n",
        "            recommended_entities_wikipedia_pages[entity] = {}\n",
        "            recommended_entities_wikipedia_pages[entity]['Title'] = recommended_entity_page.title\n",
        "            recommended_entities_wikipedia_pages[entity]['URL'] = recommended_entity_page.fullurl\n",
        "            recommended_entities_wikipedia_pages[entity]['Summary'] = recommended_entity_page.summary\n",
        "\n",
        "\n",
        "print(recommended_entities_wikipedia_pages)"
      ],
      "metadata": {
        "colab": {
          "base_uri": "https://localhost:8080/"
        },
        "id": "jjGqKsEj8aMB",
        "outputId": "067aee3c-ae28-408c-9152-978e2e3ea56d"
      },
      "execution_count": null,
      "outputs": [
        {
          "output_type": "stream",
          "name": "stdout",
          "text": [
            "{'Julia_child': {'Title': 'Julia Child', 'URL': 'https://en.wikipedia.org/wiki/Julia_Child', 'Summary': 'Julia Carolyn Child (née McWilliams; August 15, 1912 – August 13, 2004) was an American chef, author, and television personality. She is recognized for bringing French cuisine to the American public with her debut cookbook, Mastering the Art of French Cooking, and her subsequent television programs, the most notable of which was The French Chef, which premiered in 1963.'}, 'Ferrari': {'Title': 'Ferrari', 'URL': 'https://en.wikipedia.org/wiki/Ferrari', 'Summary': \"Ferrari S.p.A. (; Italian: [ferˈraːri]) is an Italian luxury sports car manufacturer based in Maranello, Italy. Founded in 1939 by Enzo Ferrari (1898–1988), the company built its first car in 1940, adopted its current name in 1945, and began to produce its current line of road cars in 1947. Ferrari became a public company in 1960, and from 1963 to 2014 it was a subsidiary of Fiat S.p.A. It was spun off from Fiat's successor entity, Fiat Chrysler Automobiles, in 2016.\\nThe company currently offers a large model range which includes several supercars, grand tourers, and one SUV. Many early Ferraris, dating to the 1950s and 1960s, count among the most expensive cars ever sold at auction. Owing to a combination of its cars, enthusiast culture, and successful licensing deals, in 2019 Ferrari was labelled the world's strongest brand by the financial consultency Brand Finance. As of May 2023 Ferrari is also one of the largest car manufacturers by market capitalisation, with a value of approximately US$52 billion.Throughout its history, the company has been noted for its continued participation in racing, especially in Formula One, where its team, Scuderia Ferrari, is the series' single oldest and most successful. Scuderia Ferrari has raced since 1929, first in Grand Prix events and later in Formula One, where since 1952 it has fielded fifteen champion drivers, won sixteen Constructors' Championships, and accumulated more race victories, 1–2 finishes, podiums, pole positions, fastest laps and points than any other team in F1 history. Historically, Ferrari was also highly active in sports car racing, where its cars took many wins in races like the Mille Miglia, Targa Florio and 24 Hours of Le Mans, as well as several overall victories in the World Sportscar Championship. Scuderia Ferrari fans, commonly called tifosi, are known for their passion and loyalty to the team.\"}, 'Mercedes-benz': {'Title': 'Mercedes-Benz', 'URL': 'https://en.wikipedia.org/wiki/Mercedes-Benz', 'Summary': 'Mercedes-Benz (German pronunciation: [mɛʁˌtseːdəs ˈbɛnts, -dɛs -] ), commonly referred to as Mercedes and sometimes as Benz, is a German luxury and commercial vehicle automotive brand established in 1926. Mercedes-Benz AG (a Mercedes-Benz Group subsidiary established in 2019) is headquartered in Stuttgart, Baden-Württemberg, Germany. Mercedes-Benz AG produces consumer luxury vehicles and light commercial vehicles badged as Mercedes-Benz. From November 2019 onwards, Mercedes-Benz-badged heavy commercial vehicles (trucks and buses) are managed by Daimler Truck, a former part of the Mercedes-Benz Group turned into an independent company in late 2021. In 2018, Mercedes-Benz  was the largest brand of premium vehicles in the world, having sold 2.31 million passenger cars.The brand\\'s origins lie in Daimler-Motoren-Gesellschaft\\'s 1901 Mercedes and Carl Benz\\'s 1886 Benz Patent-Motorwagen, which is widely regarded as the first internal combustion engine in a self-propelled automobile. The slogan for the brand is \"the best or nothing\".'}, 'Tesla': {'Title': 'Tesla', 'URL': 'https://en.wikipedia.org/wiki/Tesla', 'Summary': 'Tesla most commonly refers to:\\n\\nNikola Tesla (1856–1943), a Serbian-American electrical engineer and inventor\\nTesla, Inc., an American electric vehicle and clean energy company, formerly Tesla Motors, Inc.\\nTesla (unit) (symbol: T), the SI-derived unit of magnetic flux densityTesla may also refer to:'}, 'Nascar': {'Title': 'NASCAR', 'URL': 'https://en.wikipedia.org/wiki/NASCAR', 'Summary': 'The National Association for Stock Car Auto Racing, LLC (NASCAR) is an American auto racing sanctioning and operating company that is best known for stock car racing. It is considered to be one of the top ranked motorsports organizations in the world, and is one of the largest spectator sports in America. The privately owned company was founded by Bill France Sr. in 1948, and his son, Jim France, has been the CEO since August 2018. The company is headquartered in Daytona Beach, Florida. Each year, NASCAR sanctions over 1,500 races at over 100 tracks in 48 US states as well as in Canada, Mexico, Brazil and Europe.\\nNASCAR, and stock car racing as a whole, traces its roots back to moonshine runners during prohibition, who grew to compete against each other in a show of pride. This happened notably in North Carolina. In 1935, Bill France Sr. established races in Daytona Beach, with the hope that people would come to watch races, and that racers would race for him, as other organizers tended to fleece the winners of their payouts. This was a success, and the series was founded in 1948. Races were held in several divisions, which eventually morphed into what is the \"ladder:\" the Cup Series at the top, the Xfinity Series second, and the Truck Series third, with smaller series spread out below. Chevrolet, Ford and Toyota compete in each series.\\nThe vast majority of NASCAR drivers are American, but drivers from Canada, Mexico, Europe, and other places have competed. All Cup Series races are held across America. There are 36 points-paying races in a season, along with the pre-season Clash and mid-season All-Star race. NASCAR runs races primarily on ovals, including superspeedways, short tracks, and dirt tracks, but also road courses and street circuits.\\nRichard Petty holds the Cup Series wins record with 200, and ties with Dale Earnhardt and Jimmie Johnson for the championship record, with seven each. Entering the 2024 season, Ryan Blaney is the defending Cup Series champion.'}, 'Indycar': {'Title': 'IndyCar', 'URL': 'https://en.wikipedia.org/wiki/IndyCar', 'Summary': 'INDYCAR, LLC, is an American-based auto racing sanctioning body for Indy car racing and other disciplines of open wheel car racing. The organization sanctions two racing series: the premier IndyCar Series with the Indianapolis 500 as its centerpiece, and the developmental series Indy NXT. IndyCar is recognized as a member organization of the FIA through ACCUS.\\nThe sanctioning body was formed in 1994 under the name Indy Racing League by Hulman & Company, which also owned the Indianapolis Motor Speedway complex, and began competition in 1996. The trademark name INDYCAR was officially adopted on January 1, 2011. The sport of open-wheel car racing itself, also historically referred to as Championship Car racing or Indy racing, traces its roots to as early as 1905. It is the fifth major sanctioning body to govern the sport of Indy car racing, following AAA, USAC, CART, and Champ Car.\\nToday, IndyCar is owned by Roger Penske via Penske Entertainment Corp., a subsidiary of Penske Corporation. Penske purchased IndyCar and the Indianapolis Motor Speedway from  Hulman & Co. in November 2019.'}, 'David_attenborough': {'Title': 'David Attenborough', 'URL': 'https://en.wikipedia.org/wiki/David_Attenborough', 'Summary': 'Sir David Frederick Attenborough (; born 8 May 1926) is a British broadcaster, biologist, natural historian and author. He is best known for writing and presenting, in conjunction with the BBC Natural History Unit, the nine natural history documentary series forming the Life collection, a comprehensive survey of animal and plant life on Earth.\\nAttenborough was a senior manager at the BBC, having served as controller of BBC Two and director of programming for BBC Television in the 1960s and 1970s. First becoming prominent as host of Zoo Quest in 1954, his filmography as writer, presenter and narrator has spanned eight decades; it includes Natural World, Wildlife on One, the Planet Earth franchise, The Blue Planet and its sequel. He is the only person to have won BAFTA Awards in black and white, colour, high-definition, 3D and 4K resolution. Over his life he has collected dozens of honorary degrees and awards, including three Emmy Awards for Outstanding Narration.\\nWhile Attenborough\\'s earlier work focused more on the wonders of the natural world, his later work has been more vocal in support of environmental causes. He has advocated for restoring planetary biodiversity, limiting population growth, switching to renewable energy, mitigating climate change, reducing meat consumption, and setting aside more areas for natural preservation.\\nOn his broadcasting and passion for nature, NPR stated he \"roamed the globe and shared his discoveries and enthusiasms with his patented semi-whisper way of narrating\". He is widely considered a national treasure in the UK, although he himself does not embrace the term. He is the younger brother of the director, producer and actor Richard Attenborough, and older brother of the motor executive John Attenborough.'}, 'Nature_conservancy': {'Title': 'The Nature Conservancy', 'URL': 'https://en.wikipedia.org/wiki/The_Nature_Conservancy', 'Summary': 'The Nature Conservancy (TNC) is a global environmental organization headquartered in Arlington, Virginia. As of 2021, it works via affiliates or branches in 79 countries and territories, as well as across every state in the US.\\nFounded in 1951, The Nature Conservancy has over one million members globally as of 2021 and has protected more than 119,000,000 acres (48,000,000 ha) of land in its history. As of 2014, it is the largest environmental non-profit organization by assets and revenue in the Americas.'}}\n"
          ]
        }
      ]
    }
  ]
}